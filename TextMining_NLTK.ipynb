{
  "cells": [
    {
      "cell_type": "markdown",
      "metadata": {
        "id": "LYrVD5oly_MD"
      },
      "source": [
        "# Text Mining using NLTK\n",
        "This notebook contains six sub tasks and an additional bonus task \n",
        "1.   Age and text demographics\n",
        "2.   Extracted features visualization (frequency and overlap of words)\n",
        "3.   Age bins, clustering and summarization techniques\n",
        "4.   Logistic classfier on extracted feature dataset\n",
        "5.   Results (in terms of accuracy and confusion matrix)\n",
        "6.   Training on more complex classifier (random forest classification)\n",
        "\n",
        "\n",
        "Additional tasks - Exploring NLTK library and pre-processing the untagged subcorpora"
      ]
    },
    {
      "cell_type": "code",
      "execution_count": null,
      "metadata": {
        "id": "032bUTBHFH6H"
      },
      "outputs": [],
      "source": [
        "!pip install altair\n",
        "!pip install lxml\n",
        "!pip install sentencepiece\n",
        "!pip install transformers"
      ]
    },
    {
      "cell_type": "code",
      "execution_count": null,
      "metadata": {
        "id": "265ah2jPFLWp"
      },
      "outputs": [],
      "source": [
        "import os\n",
        "import random\n",
        "from collections import defaultdict, Counter\n",
        "from pprint import pprint\n",
        "import numpy as np\n",
        "import pandas as pd\n",
        "from lxml import etree\n",
        "import altair as alt\n",
        "import seaborn as sns\n",
        "import matplotlib.pyplot as plt\n",
        "from math import ceil\n",
        "import math\n",
        "import xml.etree.ElementTree as ET\n",
        "import nltk\n",
        "import torch\n",
        "import transformers\n",
        "\n"
      ]
    },
    {
      "cell_type": "code",
      "execution_count": null,
      "metadata": {
        "colab": {
          "base_uri": "https://localhost:8080/"
        },
        "id": "MdErgDzWNs93",
        "outputId": "6800c9a2-ca7b-4ac4-c658-dd7d5473c53f"
      },
      "outputs": [
        {
          "name": "stdout",
          "output_type": "stream",
          "text": [
            "Mounted at /content/drive\n"
          ]
        }
      ],
      "source": [
        "# Mount Google Drive to access the data\n",
        "from google.colab import drive\n",
        "drive.mount('/content/drive')"
      ]
    },
    {
      "cell_type": "markdown",
      "metadata": {
        "id": "WcU3JWsZ3NAf"
      },
      "source": [
        "Before we tackle the individual tasks, required libraries such as os, pandas, numpy, altair, matplotlib,\n",
        "lxml are imported for visualization and parsing XML files.\n",
        "The paths to the tagged and untagged directories of the corpus are defined and lists of file paths are\n",
        "created, to read the XML files (read_xml() function) and store the required features in data frames.\n",
        "\n",
        "\n",
        "The speakers metadata is stored in the dataframe – speakers\n",
        "\n",
        "The texts metadata is stored in the dataframe – texts"
      ]
    },
    {
      "cell_type": "code",
      "execution_count": null,
      "metadata": {
        "id": "HavIvS2LFN8A"
      },
      "outputs": [],
      "source": [
        "# tagged directory included words with POS tagging; whereas untagged directory does not have POS tagging.\n",
        "# change to your directory path\n",
        "path = '/content/drive/MyDrive/bnc2014spoken-xml' # change this to be your own path\n",
        "dir_tagged_corpus = path + '/spoken/tagged/'\n",
        "dir_untagged_corpus = path + '/spoken/untagged/'\n",
        "dir_meta = path + '/spoken/metadata/'"
      ]
    },
    {
      "cell_type": "code",
      "execution_count": null,
      "metadata": {
        "id": "APItUL61FQkA"
      },
      "outputs": [],
      "source": [
        "f_tagged_names = os.listdir(dir_tagged_corpus)\n",
        "f_tagged_paths = [f\"{dir_tagged_corpus}{f_name}\" for f_name in f_tagged_names]"
      ]
    },
    {
      "cell_type": "code",
      "execution_count": null,
      "metadata": {
        "id": "lylEl57T_Fxr"
      },
      "outputs": [],
      "source": [
        "f_untagged_names = os.listdir(dir_untagged_corpus)\n",
        "f_untagged_paths = [f\"{dir_untagged_corpus}{f_name}\" for f_name in f_untagged_names]"
      ]
    },
    {
      "cell_type": "code",
      "execution_count": null,
      "metadata": {
        "id": "g4_GJ91CFVx1"
      },
      "outputs": [],
      "source": [
        "def get_xml(f_path):\n",
        "    with open(f_path, 'r') as f:\n",
        "        f = f.read()\n",
        "    xml = etree.fromstring(f)\n",
        "    return xml\n",
        "for path in f_tagged_paths: # for each of the dialogues\n",
        "    df_utts = pd.read_xml(path, xpath=\"//u\") \n",
        "    break  \n",
        "   "
      ]
    },
    {
      "cell_type": "code",
      "execution_count": null,
      "metadata": {
        "colab": {
          "base_uri": "https://localhost:8080/"
        },
        "id": "8Q4fTSa_JlUH",
        "outputId": "5ab4fd04-bc08-4f0b-aa8b-6f22caedf074"
      },
      "outputs": [
        {
          "name": "stdout",
          "output_type": "stream",
          "text": [
            "CPU times: user 43.5 s, sys: 1.64 s, total: 45.1 s\n",
            "Wall time: 1min 35s\n"
          ]
        }
      ],
      "source": [
        "%%time\n",
        "texts = []\n",
        "for f_path in f_tagged_paths:\n",
        "    xml = get_xml(f_path)\n",
        "    id = xml.get('id')\n",
        "    texts.append(id)"
      ]
    },
    {
      "cell_type": "code",
      "execution_count": null,
      "metadata": {
        "colab": {
          "base_uri": "https://localhost:8080/"
        },
        "id": "dSCv1FAEMR5s",
        "outputId": "2365de0a-63d7-4dc8-f57e-b032a9d1bdc9"
      },
      "outputs": [
        {
          "name": "stdout",
          "output_type": "stream",
          "text": [
            "number of speakers: 671\n"
          ]
        }
      ],
      "source": [
        "speakers_words = defaultdict(int)\n",
        "for f_path in f_tagged_paths:\n",
        "    xml = get_xml(f_path)\n",
        "    for u in xml.iter('u'):\n",
        "        speaker = u.get('who')\n",
        "        n_words = len([w for w in u.iter('w')])\n",
        "        speakers_words[speaker] += n_words\n",
        "        \n",
        "        \n",
        "print(f'number of speakers: {len(speakers_words)}')"
      ]
    },
    {
      "cell_type": "code",
      "execution_count": null,
      "metadata": {
        "id": "sue5eSpcMYkR"
      },
      "outputs": [],
      "source": [
        "df_speakers_words = pd.DataFrame(list(speakers_words.items()), columns=['speaker', 'n_words'])"
      ]
    },
    {
      "cell_type": "code",
      "execution_count": null,
      "metadata": {
        "id": "4b6cb566"
      },
      "outputs": [],
      "source": [
        "df_speakers_words.sort_values('speaker', ascending=True, inplace=True)"
      ]
    },
    {
      "cell_type": "code",
      "execution_count": null,
      "metadata": {
        "id": "rE-G73pRMgNV"
      },
      "outputs": [],
      "source": [
        "df_speakers_words\n",
        "#write the above dataframe to csv if required\n",
        "df_speakers_words.to_csv('/content/drive/MyDrive/bnc2014spoken-xml/outspeakers_nwords.csv')"
      ]
    },
    {
      "cell_type": "code",
      "execution_count": null,
      "metadata": {
        "colab": {
          "base_uri": "https://localhost:8080/"
        },
        "id": "AzgcOJW2MlEz",
        "outputId": "b92ed8c5-fae0-4482-b30a-c97c3112191a"
      },
      "outputs": [
        {
          "name": "stdout",
          "output_type": "stream",
          "text": [
            "total number of words in the corpus: 11422615\n"
          ]
        }
      ],
      "source": [
        "#No. of words in the corpus\n",
        "\n",
        "n_words = 0\n",
        "for f_path in f_tagged_paths:\n",
        "    xml = get_xml(f_path)\n",
        "    for w in xml.iter('w'):\n",
        "        n_words += 1\n",
        "        \n",
        "print(f'total number of words in the corpus: {n_words}')"
      ]
    },
    {
      "cell_type": "code",
      "execution_count": null,
      "metadata": {
        "id": "VKd9FJdLMmpG"
      },
      "outputs": [],
      "source": [
        "# =loading speakers txt file\n",
        "head_speakers = pd.read_csv(\n",
        "    f\"{dir_meta}metadata-fields-speaker.txt\",\n",
        "    delimiter='\\t',\n",
        "    skiprows=1,\n",
        "    index_col=0\n",
        ")"
      ]
    },
    {
      "cell_type": "code",
      "execution_count": null,
      "metadata": {
        "id": "BMZk8fWFMqfZ"
      },
      "outputs": [],
      "source": [
        "# loading speakerdata tsv file\n",
        "speakers = pd.read_csv(\n",
        "    f\"{dir_meta}bnc2014spoken-speakerdata.tsv\", \n",
        "    delimiter='\\t', \n",
        "    names=head_speakers['XML tag'],\n",
        "    index_col=0\n",
        ")"
      ]
    },
    {
      "cell_type": "code",
      "execution_count": null,
      "metadata": {
        "id": "BuhBtLDXM0YN"
      },
      "outputs": [],
      "source": [
        "# Load text data\n",
        "\n",
        "head_texts = pd.read_csv(\n",
        "    f\"{dir_meta}metadata-fields-text.txt\",\n",
        "    delimiter='\\t',\n",
        "    skiprows=1,\n",
        "    index_col=0\n",
        ")"
      ]
    },
    {
      "cell_type": "code",
      "execution_count": null,
      "metadata": {
        "id": "4ZEM_OAsM6Ba"
      },
      "outputs": [],
      "source": [
        "# Loading textdata from tsv file\n",
        "\n",
        "texts = pd.read_csv(\n",
        "    f\"{dir_meta}bnc2014spoken-textdata.tsv\", \n",
        "    delimiter='\\t', \n",
        "    names=head_texts['XML tag'],\n",
        "    index_col=0\n",
        ")"
      ]
    },
    {
      "cell_type": "markdown",
      "metadata": {
        "id": "DzEuEkBbI3kK"
      },
      "source": [
        "### Statistics Summary and Texts summary\n",
        "Age Statistics of this dataset are extracted, the  speaker’s age demographics in terms of mean values,\n",
        "range, standard deviations, min/max values, median values and 25%/50%/75% percentile\n",
        "valuess. "
      ]
    },
    {
      "cell_type": "code",
      "execution_count": null,
      "metadata": {
        "colab": {
          "base_uri": "https://localhost:8080/",
          "height": 251
        },
        "id": "B1qQs4rkfYjL",
        "outputId": "aa155c03-f006-4ecc-fe28-6100363b3633"
      },
      "outputs": [
        {
          "name": "stdout",
          "output_type": "stream",
          "text": [
            "count     529\n",
            "unique     85\n",
            "top        20\n",
            "freq       32\n",
            "Name: exactage, dtype: object\n"
          ]
        },
        {
          "data": {
            "text/html": [
              "\n",
              "  <div id=\"df-7155924d-d522-4828-aa58-5be7fa6770a9\">\n",
              "    <div class=\"colab-df-container\">\n",
              "      <div>\n",
              "<style scoped>\n",
              "    .dataframe tbody tr th:only-of-type {\n",
              "        vertical-align: middle;\n",
              "    }\n",
              "\n",
              "    .dataframe tbody tr th {\n",
              "        vertical-align: top;\n",
              "    }\n",
              "\n",
              "    .dataframe thead th {\n",
              "        text-align: right;\n",
              "    }\n",
              "</style>\n",
              "<table border=\"1\" class=\"dataframe\">\n",
              "  <thead>\n",
              "    <tr style=\"text-align: right;\">\n",
              "      <th></th>\n",
              "      <th>mean age</th>\n",
              "      <th>min age</th>\n",
              "      <th>max age</th>\n",
              "      <th>age range</th>\n",
              "      <th>std dev</th>\n",
              "      <th>25% percentile</th>\n",
              "      <th>50% percentile</th>\n",
              "      <th>75% percentile</th>\n",
              "    </tr>\n",
              "  </thead>\n",
              "  <tbody>\n",
              "    <tr>\n",
              "      <th>exactage</th>\n",
              "      <td>39.893939</td>\n",
              "      <td>2.0</td>\n",
              "      <td>91.0</td>\n",
              "      <td>89.0</td>\n",
              "      <td>20.159236</td>\n",
              "      <td>22.0</td>\n",
              "      <td>34.0</td>\n",
              "      <td>55.25</td>\n",
              "    </tr>\n",
              "  </tbody>\n",
              "</table>\n",
              "</div>\n",
              "      <button class=\"colab-df-convert\" onclick=\"convertToInteractive('df-7155924d-d522-4828-aa58-5be7fa6770a9')\"\n",
              "              title=\"Convert this dataframe to an interactive table.\"\n",
              "              style=\"display:none;\">\n",
              "        \n",
              "  <svg xmlns=\"http://www.w3.org/2000/svg\" height=\"24px\"viewBox=\"0 0 24 24\"\n",
              "       width=\"24px\">\n",
              "    <path d=\"M0 0h24v24H0V0z\" fill=\"none\"/>\n",
              "    <path d=\"M18.56 5.44l.94 2.06.94-2.06 2.06-.94-2.06-.94-.94-2.06-.94 2.06-2.06.94zm-11 1L8.5 8.5l.94-2.06 2.06-.94-2.06-.94L8.5 2.5l-.94 2.06-2.06.94zm10 10l.94 2.06.94-2.06 2.06-.94-2.06-.94-.94-2.06-.94 2.06-2.06.94z\"/><path d=\"M17.41 7.96l-1.37-1.37c-.4-.4-.92-.59-1.43-.59-.52 0-1.04.2-1.43.59L10.3 9.45l-7.72 7.72c-.78.78-.78 2.05 0 2.83L4 21.41c.39.39.9.59 1.41.59.51 0 1.02-.2 1.41-.59l7.78-7.78 2.81-2.81c.8-.78.8-2.07 0-2.86zM5.41 20L4 18.59l7.72-7.72 1.47 1.35L5.41 20z\"/>\n",
              "  </svg>\n",
              "      </button>\n",
              "      \n",
              "  <style>\n",
              "    .colab-df-container {\n",
              "      display:flex;\n",
              "      flex-wrap:wrap;\n",
              "      gap: 12px;\n",
              "    }\n",
              "\n",
              "    .colab-df-convert {\n",
              "      background-color: #E8F0FE;\n",
              "      border: none;\n",
              "      border-radius: 50%;\n",
              "      cursor: pointer;\n",
              "      display: none;\n",
              "      fill: #1967D2;\n",
              "      height: 32px;\n",
              "      padding: 0 0 0 0;\n",
              "      width: 32px;\n",
              "    }\n",
              "\n",
              "    .colab-df-convert:hover {\n",
              "      background-color: #E2EBFA;\n",
              "      box-shadow: 0px 1px 2px rgba(60, 64, 67, 0.3), 0px 1px 3px 1px rgba(60, 64, 67, 0.15);\n",
              "      fill: #174EA6;\n",
              "    }\n",
              "\n",
              "    [theme=dark] .colab-df-convert {\n",
              "      background-color: #3B4455;\n",
              "      fill: #D2E3FC;\n",
              "    }\n",
              "\n",
              "    [theme=dark] .colab-df-convert:hover {\n",
              "      background-color: #434B5C;\n",
              "      box-shadow: 0px 1px 3px 1px rgba(0, 0, 0, 0.15);\n",
              "      filter: drop-shadow(0px 1px 2px rgba(0, 0, 0, 0.3));\n",
              "      fill: #FFFFFF;\n",
              "    }\n",
              "  </style>\n",
              "\n",
              "      <script>\n",
              "        const buttonEl =\n",
              "          document.querySelector('#df-7155924d-d522-4828-aa58-5be7fa6770a9 button.colab-df-convert');\n",
              "        buttonEl.style.display =\n",
              "          google.colab.kernel.accessAllowed ? 'block' : 'none';\n",
              "\n",
              "        async function convertToInteractive(key) {\n",
              "          const element = document.querySelector('#df-7155924d-d522-4828-aa58-5be7fa6770a9');\n",
              "          const dataTable =\n",
              "            await google.colab.kernel.invokeFunction('convertToInteractive',\n",
              "                                                     [key], {});\n",
              "          if (!dataTable) return;\n",
              "\n",
              "          const docLinkHtml = 'Like what you see? Visit the ' +\n",
              "            '<a target=\"_blank\" href=https://colab.research.google.com/notebooks/data_table.ipynb>data table notebook</a>'\n",
              "            + ' to learn more about interactive tables.';\n",
              "          element.innerHTML = '';\n",
              "          dataTable['output_type'] = 'display_data';\n",
              "          await google.colab.output.renderOutput(dataTable, element);\n",
              "          const docLink = document.createElement('div');\n",
              "          docLink.innerHTML = docLinkHtml;\n",
              "          element.appendChild(docLink);\n",
              "        }\n",
              "      </script>\n",
              "    </div>\n",
              "  </div>\n",
              "  "
            ],
            "text/plain": [
              "           mean age  min age  max age  age range    std dev  25% percentile  \\\n",
              "exactage  39.893939      2.0     91.0       89.0  20.159236            22.0   \n",
              "\n",
              "          50% percentile  75% percentile  \n",
              "exactage            34.0           55.25  "
            ]
          },
          "execution_count": 23,
          "metadata": {},
          "output_type": "execute_result"
        }
      ],
      "source": [
        "# Extract the exactage column from the DataFrame\n",
        "exactage_col = speakers['exactage']\n",
        "\n",
        "# Compute summary statistics\n",
        "summary_stats1 = exactage_col.describe(percentiles=[0.25, 0.5, 0.75])\n",
        "\n",
        "# Print the summary statistics\n",
        "print(summary_stats1)\n",
        "\n",
        "speakers['exactage'] = pd.to_numeric(speakers['exactage'], errors='coerce')\n",
        "\n",
        "# Compute additional statistics\n",
        "mean_age = speakers['exactage'].mean()\n",
        "min_age = speakers['exactage'].min()\n",
        "max_age = speakers['exactage'].max()\n",
        "age_range = max_age - min_age\n",
        "std_dev = speakers['exactage'].std()\n",
        "p25 = speakers['exactage'].quantile(0.25)\n",
        "p50 = speakers['exactage'].quantile(0.50)\n",
        "p75 = speakers['exactage'].quantile(0.75)\n",
        "\n",
        "# Create summary statistics dataframe\n",
        "summary_stats = pd.DataFrame({\n",
        "    'mean age': mean_age,\n",
        "    'min age': min_age,\n",
        "    'max age': max_age,\n",
        "    'age range': age_range,\n",
        "    'std dev': std_dev,\n",
        "    '25% percentile': p25,\n",
        "    '50% percentile': p50,\n",
        "    '75% percentile': p75\n",
        "}, index=['exactage'])\n",
        "\n",
        "\n",
        "\n",
        "summary_stats\n"
      ]
    },
    {
      "cell_type": "markdown",
      "metadata": {
        "id": "ZTmI2Ldn3wys"
      },
      "source": [
        "Age statistics with respect to gender, socio-economic grade, and birthplace"
      ]
    },
    {
      "cell_type": "code",
      "execution_count": null,
      "metadata": {
        "colab": {
          "base_uri": "https://localhost:8080/",
          "height": 1000
        },
        "id": "Ojmk3_fXF9wn",
        "outputId": "e16b51e2-4dea-43f2-ac92-e7dfa4d8d20a"
      },
      "outputs": [
        {
          "data": {
            "image/png": "[encoded data removed]",
            "text/plain": [
              "<Figure size 640x480 with 1 Axes>"
            ]
          },
          "metadata": {},
          "output_type": "display_data"
        },
        {
          "data": {
            "image/png": "[encoded data removed]",
            "text/plain": [
              "<Figure size 640x480 with 1 Axes>"
            ]
          },
          "metadata": {},
          "output_type": "display_data"
        },
        {
          "data": {
            "image/png": "[encoded data removed]",
            "text/plain": [
              "<Figure size 640x480 with 1 Axes>"
            ]
          },
          "metadata": {},
          "output_type": "display_data"
        }
      ],
      "source": [
        "# Compute age statistics with respect to gender, socio-economic grade, and birthplace\n",
        "age_stats = speakers['exactage'].describe()\n",
        "\n",
        "# Convert exact age column to numeric and create a DataFrame for age, gender, socio-economic grade, and birthplace\n",
        "speakers['exactage'] = pd.to_numeric(speakers['exactage'], errors='coerce')\n",
        "age_gender_grade_place_df = speakers[['exactage', 'gender', 'socgrade', 'birthplace']]\n",
        "\n",
        "# Graph 1: Bar chart of number of speakers by gender\n",
        "gender_counts = age_gender_grade_place_df['gender'].value_counts()\n",
        "plt.bar(gender_counts.index, gender_counts.values)\n",
        "plt.title(\"Number of Speakers by Gender\")\n",
        "plt.xlabel(\"Gender\")\n",
        "plt.ylabel(\"Count\")\n",
        "plt.show()\n",
        "\n",
        "# Graph 2: Scatter plot of age versus socioeconomic status\n",
        "age_ses_df = age_gender_grade_place_df.dropna(subset=['exactage', 'socgrade'])\n",
        "plt.scatter(age_ses_df['exactage'], age_ses_df['socgrade'])\n",
        "plt.title(\"Age vs. Socioeconomic Status\")\n",
        "plt.xlabel(\"Age\")\n",
        "plt.ylabel(\"Socioeconomic Status\")\n",
        "plt.show()\n",
        "\n",
        "# Graph 3: Box plot of age by birthplace\n",
        "age_place_df = age_gender_grade_place_df.dropna(subset=['exactage', 'birthplace'])\n",
        "plt.boxplot([age_place_df[age_place_df['birthplace'] == 'US']['exactage'], \n",
        "             age_place_df[age_place_df['birthplace'] == 'UK']['exactage'],\n",
        "             age_place_df[age_place_df['birthplace'] == 'Other']['exactage']])\n",
        "plt.title(\"Age by Birthplace\")\n",
        "plt.xlabel(\"Birthplace\")\n",
        "plt.ylabel(\"Age\")\n",
        "plt.xticks([1, 2, 3], ['US', 'UK', 'Other'])\n",
        "plt.show()\n"
      ]
    },
    {
      "cell_type": "code",
      "execution_count": null,
      "metadata": {
        "colab": {
          "base_uri": "https://localhost:8080/"
        },
        "id": "zK7NKyoTF-eb",
        "outputId": "f9677165-bf47-41a3-bf3a-7c5d5634611c"
      },
      "outputs": [
        {
          "name": "stdout",
          "output_type": "stream",
          "text": [
            "Mean age differences:\n",
            "gender\n",
            "F    38.619377\n",
            "M    41.435146\n",
            "X          NaN\n",
            "Name: exactage, dtype: float64\n",
            "socgrade\n",
            "A          42.747253\n",
            "B          39.657407\n",
            "C1         41.580000\n",
            "C2         30.000000\n",
            "D          36.526316\n",
            "E          39.330275\n",
            "unknown    42.307692\n",
            "Name: exactage, dtype: float64\n",
            "birthplace\n",
            "Abergavenny                     28.000000\n",
            "Aberystwyth                     20.000000\n",
            "Aldershot, Hampshire            49.333333\n",
            "Almondsbury, Gloucestershire    62.000000\n",
            "Ascot                           16.000000\n",
            "                                  ...    \n",
            "Wordsley, West Midlands         32.000000\n",
            "Wrexham                         20.000000\n",
            "Yeovil                          48.000000\n",
            "Yoevil                          28.000000\n",
            "York                            23.500000\n",
            "Name: exactage, Length: 323, dtype: float64\n"
          ]
        }
      ],
      "source": [
        "# Group speakers by gender and compute mean age\n",
        "gender_mean_age = speakers.groupby('gender')['exactage'].mean()\n",
        "\n",
        "# Group speakers by socio-economic grade and compute mean age\n",
        "socio_grade_mean_age = speakers.groupby('socgrade')['exactage'].mean()\n",
        "\n",
        "# Group speakers by birthplace and compute mean age\n",
        "birthplace_mean_age = speakers.groupby('birthplace')['exactage'].mean()\n",
        "\n",
        "# Report the mean age differences\n",
        "print(\"Mean age differences:\")\n",
        "print(gender_mean_age)\n",
        "print(socio_grade_mean_age)\n",
        "print(birthplace_mean_age)\n"
      ]
    },
    {
      "cell_type": "markdown",
      "metadata": {
        "id": "6E75JIaWcNEv"
      },
      "source": [
        "#### Statistics of the text data in utterance text -\n",
        "\n",
        "This code creates a dictionary of speaker data by iterating through dialogues and calculating the\n",
        "average length of each speaker's utterances. It then converts the dictionary to a DataFrame and saves it\n",
        "to a CSV file.\n",
        "Next, it converts the 'exactage' column in the 'speakers' DataFrame to numeric and creates a color map\n",
        "for age groups based on the 'exactage' column. Finally, it creates a scatter plot of the number of\n",
        "utterances versus age, where each point is colored based on the speaker's age group."
      ]
    },
    {
      "cell_type": "code",
      "execution_count": null,
      "metadata": {
        "colab": {
          "base_uri": "https://localhost:8080/"
        },
        "id": "TdKc1e9tLnie",
        "outputId": "ea91a919-4331-40f0-b967-2d207db6dab5"
      },
      "outputs": [
        {
          "name": "stdout",
          "output_type": "stream",
          "text": [
            "           n_utterances\n",
            "speaker                \n",
            "S0255         26.436364\n",
            "S0259         26.953782\n",
            "UNKFEMALE      2.625000\n",
            "S0041         26.899396\n",
            "S0046         23.894309\n",
            "...                 ...\n",
            "S0101         20.600000\n",
            "S0102         20.465116\n",
            "S0117         19.793651\n",
            "S0156         14.181818\n",
            "S0345         32.729839\n",
            "\n",
            "[671 rows x 1 columns]\n"
          ]
        }
      ],
      "source": [
        "# Create an empty dictionary to store speaker data\n",
        "speaker_data = {}\n",
        "\n",
        "# Iterate through the dialogues\n",
        "for path in f_untagged_paths:\n",
        "    df_utts = pd.read_xml(path, xpath=\"//u\")\n",
        "    df_speakers = pd.read_xml(path, xpath=\"//speaker\")\n",
        "    # Calculate the average utterance length per speaker\n",
        "    utt_len = df_utts['u'].str.len().groupby(df_utts['who']).mean()\n",
        "    # Append speaker data to dictionary\n",
        "    speaker_data.update(utt_len.to_dict())\n",
        "\n",
        "# Create a DataFrame from the dictionary of speaker data\n",
        "speaker_utt_df = pd.DataFrame.from_dict(speaker_data, orient='index', columns=['n_utterances'])\n",
        "speaker_utt_df.index.name = 'speaker'\n",
        "print(speaker_utt_df)\n",
        "speaker_utt_df.to_csv('/content/drive/MyDrive/bnc2014spoken-xml/uttspeakers_nwords.csv')\n"
      ]
    },
    {
      "cell_type": "code",
      "execution_count": null,
      "metadata": {
        "id": "7V--dS9xOEIp"
      },
      "outputs": [],
      "source": [
        "# A code snippet to get number of speakers per dialogue"
      ]
    },
    {
      "cell_type": "code",
      "execution_count": null,
      "metadata": {
        "colab": {
          "base_uri": "https://localhost:8080/",
          "height": 449
        },
        "id": "1aIB62DHHqI5",
        "outputId": "949f09e3-c535-4603-9575-bfdf741739f8"
      },
      "outputs": [
        {
          "data": {
            "image/png": "[encoded data removed]",
            "text/plain": [
              "<Figure size 640x480 with 1 Axes>"
            ]
          },
          "metadata": {},
          "output_type": "display_data"
        }
      ],
      "source": [
        "speakers['exactage'] = pd.to_numeric(speakers['exactage'], errors='coerce')\n",
        "# Create a color map for age groups\n",
        "age_groups = pd.cut(speakers['exactage'], [0, 18, 30, 50, 100], include_lowest=True, right=False, labels=['0-18', '18-30', '30-50', '50+'])\n",
        "colors = {'0-18': 'red', '18-30': 'blue', '30-50': 'green', '50+': 'purple'}\n",
        "age_groups = age_groups.cat.add_categories(['black']) # Add 'black' as a category\n",
        "speakers['color'] = age_groups.map(colors).fillna('black')\n",
        "\n",
        "# Plot the scatter plot\n",
        "plt.scatter(speakers['exactage'], speaker_utt_df['n_utterances'], c=speakers['color'])\n",
        "plt.xlabel('Age')\n",
        "plt.ylabel('n_utterances')\n",
        "plt.show()\n"
      ]
    },
    {
      "cell_type": "markdown",
      "metadata": {
        "id": "ArpTrYejHozj"
      },
      "source": [
        "### Data Visualization\n",
        "For Data visualization, we extract few other additional insights and plot them as follows:\n",
        "\n",
        "1.   Frequency of words from tagged files, age groups \n",
        "2.   Vocabulary overlap frequency \n",
        "\n",
        "\n",
        "\n",
        "\n"
      ]
    },
    {
      "cell_type": "code",
      "execution_count": null,
      "metadata": {
        "colab": {
          "base_uri": "https://localhost:8080/"
        },
        "id": "2cgjPt6OK73f",
        "outputId": "3264595c-3090-4488-c319-21eae1d04417"
      },
      "outputs": [
        {
          "name": "stdout",
          "output_type": "stream",
          "text": [
            "/content/drive/MyDrive/bnc2014spoken-xml/spoken/tagged/S7KK-tgd.xml\n",
            "/content/drive/MyDrive/bnc2014spoken-xml/spoken/tagged/S7QU-tgd.xml\n",
            "/content/drive/MyDrive/bnc2014spoken-xml/spoken/tagged/S7NH-tgd.xml\n",
            "/content/drive/MyDrive/bnc2014spoken-xml/spoken/tagged/S7NJ-tgd.xml\n",
            "/content/drive/MyDrive/bnc2014spoken-xml/spoken/tagged/S7KD-tgd.xml\n",
            "I: 2211\n",
            "it: 1811\n",
            "you: 1596\n",
            "'s: 1518\n",
            "the: 1465\n",
            "and: 1399\n",
            "to: 1047\n",
            "that: 1047\n",
            "a: 949\n",
            "?: 937\n"
          ]
        }
      ],
      "source": [
        "# Define the directory containing the tagged XML files\n",
        "dir_path = \"/content/drive/MyDrive/bnc2014spoken-xml/spoken/tagged\"\n",
        "\n",
        "# Get a list of all the tagged XML files in the directory\n",
        "f_tagged_paths = [os.path.join(dir_path, f) for f in os.listdir(dir_path) if f.endswith(\".xml\")]\n",
        "\n",
        "# Define the user tags we're interested in (replace with actual tags from data)\n",
        "\n",
        "\n",
        "# Loop over each tagged XML file\n",
        "word_freqs = Counter()\n",
        "for f_path in f_tagged_paths[:5]:\n",
        "    xml = ET.parse(f_path).getroot()\n",
        "    print(f_path)\n",
        "    for u in xml.iter('u'):\n",
        "        speaker = u.get('who')\n",
        "        words = [w.text for w in u.iter('w')]\n",
        "        word_freqs.update(words)\n",
        "\n",
        "# Print the 10 most common words and their frequencies\n",
        "for word, freq in word_freqs.most_common(10):\n",
        "    print(f\"{word}: {freq}\")\n",
        "\n",
        "      \n",
        "\n",
        "            \n",
        "        \n",
        "        \n",
        "          \n",
        "\n",
        "\n"
      ]
    },
    {
      "cell_type": "code",
      "execution_count": null,
      "metadata": {
        "colab": {
          "base_uri": "https://localhost:8080/",
          "height": 488
        },
        "id": "3bv1aKYtOIno",
        "outputId": "30f9eedb-c9d6-4e67-ffbd-254a5c8890cb"
      },
      "outputs": [
        {
          "data": {
            "image/png": "[encoded data removed]",
            "text/plain": [
              "<Figure size 640x480 with 1 Axes>"
            ]
          },
          "metadata": {},
          "output_type": "display_data"
        }
      ],
      "source": [
        "\n",
        "# Get the top 10 most common words and their frequencies\n",
        "top_words = [word for word, _ in word_freqs.most_common(10)]\n",
        "word_counts = [count for _, count in word_freqs.most_common(10)]\n",
        "\n",
        "# Create a bar chart of the word frequencies\n",
        "plt.bar(top_words, word_counts)\n",
        "\n",
        "# Set the title and axis labels\n",
        "plt.title(\"Frequency of Top 10 Words\")\n",
        "plt.xlabel(\"Words\")\n",
        "plt.ylabel(\"Frequency\")\n",
        "\n",
        "# Rotate the x-axis labels for better readability\n",
        "plt.xticks(rotation=45)\n",
        "\n",
        "# Show the plot\n",
        "plt.show()\n"
      ]
    },
    {
      "cell_type": "code",
      "execution_count": null,
      "metadata": {
        "id": "iGKDZqaWeSOO"
      },
      "outputs": [],
      "source": [
        "\n",
        "# Define the directory containing the tagged XML files\n",
        "dir_path = \"/content/drive/MyDrive/bnc2014spoken-xml/spoken/tagged\"\n",
        "\n",
        "# Get a list of all the tagged XML files in the directory\n",
        "f_tagged_paths = [os.path.join(dir_path, f) for f in os.listdir(dir_path) if f.endswith(\".xml\")]\n",
        "\n",
        "# Loop over each tagged XML file and extract the words and their frequency for each speaker\n",
        "all_word_freqs = Counter()\n",
        "for f_path in f_tagged_paths[:5]:\n",
        "    xml = ET.parse(f_path).getroot()\n",
        "    print(f_path)\n",
        "    for u in xml.iter('u'):\n",
        "        speaker = u.get('who')\n",
        "        words = [w.text for w in u.iter('w')]\n",
        "        speaker_word_freqs = Counter(words)\n",
        "        for word, freq in speaker_word_freqs.items():\n",
        "            all_word_freqs[(speaker, word)] += freq\n",
        "\n",
        "# Create a DataFrame with speaker, word, and frequency columns\n",
        "df = pd.DataFrame.from_dict(all_word_freqs, orient='index', columns=['frequency'])\n",
        "df.index = pd.MultiIndex.from_tuples(df.index, names=['speaker', 'word'])\n",
        "df.reset_index(inplace=True)\n",
        "\n",
        "# Add the age column to the DataFrame\n",
        "# Assume `df` and `speakers` dataframes are already defined\n",
        "merged_df= pd.merge(df, speakers[['exactage']], left_on='speaker', right_index=True)\n",
        "\n",
        "merged_df['exactage'] = pd.to_numeric(merged_df['exactage'], errors='coerce')\n",
        "merged_df['age_group'] = merged_df['exactage'].apply(lambda age: 'old' if age >= 50 else 'young')\n",
        "\n",
        "word_freqs = merged_df.groupby(['word', 'age_group'])['frequency'].sum().reset_index()\n",
        "# Get the top 10 words for each age group\n",
        "top_words = word_freqs.groupby('age_group').apply(lambda x: x.nlargest(10, 'frequency'))\n",
        "\n",
        "# Plot the graph\n",
        "sns.barplot(x='word', y='frequency', hue='age_group', data=top_words)\n"
      ]
    },
    {
      "cell_type": "code",
      "execution_count": null,
      "metadata": {
        "colab": {
          "base_uri": "https://localhost:8080/"
        },
        "id": "KYwdSeGFWS50",
        "outputId": "cb9dbca6-6a92-439e-aab2-d1c9ce5745f1"
      },
      "outputs": [
        {
          "name": "stdout",
          "output_type": "stream",
          "text": [
            "/content/drive/MyDrive/bnc2014spoken-xml/spoken/tagged/S7KK-tgd.xml\n"
          ]
        },
        {
          "name": "stderr",
          "output_type": "stream",
          "text": [
            "[nltk_data] Downloading package stopwords to /root/nltk_data...\n",
            "[nltk_data]   Package stopwords is already up-to-date!\n"
          ]
        },
        {
          "name": "stdout",
          "output_type": "stream",
          "text": [
            "/content/drive/MyDrive/bnc2014spoken-xml/spoken/tagged/S7QU-tgd.xml\n",
            "/content/drive/MyDrive/bnc2014spoken-xml/spoken/tagged/S7NH-tgd.xml\n",
            "/content/drive/MyDrive/bnc2014spoken-xml/spoken/tagged/S7NJ-tgd.xml\n",
            "/content/drive/MyDrive/bnc2014spoken-xml/spoken/tagged/S7KD-tgd.xml\n",
            "'s: 1518\n",
            "?: 937\n",
            "n't: 888\n",
            "yeah: 885\n",
            "mm: 710\n",
            "know: 464\n",
            "well: 405\n",
            "like: 359\n",
            "think: 357\n",
            "oh: 317\n"
          ]
        }
      ],
      "source": [
        "\n",
        "nltk.download('stopwords')\n",
        "\n",
        "# Define the directory containing the tagged XML files\n",
        "dir_path = \"/content/drive/MyDrive/bnc2014spoken-xml/spoken/tagged\"\n",
        "\n",
        "# Get a list of all the tagged XML files in the directory\n",
        "f_tagged_paths = [os.path.join(dir_path, f) for f in os.listdir(dir_path) if f.endswith(\".xml\")]\n",
        "\n",
        "# Define the user tags we're interested in (replace with actual tags from data)\n",
        "\n",
        "# Define stopwords\n",
        "stopwords = nltk.corpus.stopwords.words('english')\n",
        "stopwords.remove('not') # if needed, we can remove 'not' from the list of stopwords\n",
        "\n",
        "# Loop over each tagged XML file\n",
        "word_freqs = Counter()\n",
        "for f_path in f_tagged_paths[:5]:\n",
        "    xml = ET.parse(f_path).getroot()\n",
        "    print(f_path)\n",
        "    for u in xml.iter('u'):\n",
        "        speaker = u.get('who')\n",
        "        words = [w.text for w in u.iter('w') if w.text.lower() not in stopwords]\n",
        "        word_freqs.update(words)\n",
        "\n",
        "# Print the 10 most common words and their frequencies\n",
        "for word, freq in word_freqs.most_common(10):\n",
        "    print(f\"{word}: {freq}\")\n",
        "# Create a DataFrame with speaker, word, and frequency columns\n",
        "df = pd.DataFrame.from_dict(all_word_freqs, orient='index', columns=['frequency'])\n",
        "df.index = pd.MultiIndex.from_tuples(df.index, names=['speaker', 'word'])\n",
        "df.reset_index(inplace=True)\n",
        "\n",
        "# Add the age column to the DataFrame\n",
        "# Assume `df` and `speakers` dataframes are already defined\n",
        "merged_df= pd.merge(df, speakers[['exactage']], left_on='speaker', right_index=True)\n",
        "\n",
        "\n"
      ]
    },
    {
      "cell_type": "code",
      "execution_count": null,
      "metadata": {
        "colab": {
          "base_uri": "https://localhost:8080/",
          "height": 494
        },
        "id": "kxvcbrEUx3uO",
        "outputId": "bb1ff046-f6a5-4efb-abbb-534d95d109ed"
      },
      "outputs": [
        {
          "data": {
            "image/png": "[encoded data removed]",
            "text/plain": [
              "<Figure size 640x480 with 1 Axes>"
            ]
          },
          "metadata": {},
          "output_type": "display_data"
        }
      ],
      "source": [
        "\n",
        "# Get the top 10 most common words and their frequencies\n",
        "top_words = [word for word, _ in word_freqs.most_common(10)]\n",
        "word_counts = [count for _, count in word_freqs.most_common(10)]\n",
        "\n",
        "# Create a bar chart of the word frequencies\n",
        "plt.bar(top_words, word_counts)\n",
        "\n",
        "# Set the title and axis labels\n",
        "plt.title(\"Frequency of Top 10 Words\")\n",
        "plt.xlabel(\"Words\")\n",
        "plt.ylabel(\"Frequency\")\n",
        "\n",
        "# Rotate the x-axis labels for better readability\n",
        "plt.xticks(rotation=45)\n",
        "\n",
        "# Show the plot\n",
        "plt.show()\n"
      ]
    },
    {
      "cell_type": "markdown",
      "metadata": {
        "id": "Yt0Lh2cN4bh3"
      },
      "source": [
        "### Vocabulary overlap between two speakers - \n",
        " It calculates the vocabulary statistics for each age group, including the number of unique words spoken\n",
        "by young speakers, the number of unique words spoken by old speakers, and the number of words\n",
        "spoken by both young and old speakers."
      ]
    },
    {
      "cell_type": "code",
      "execution_count": null,
      "metadata": {
        "id": "AzMXIxDDgSc7"
      },
      "outputs": [],
      "source": [
        "# initialize a dictionary to store words spoken by each speaker\n",
        "speaker_words = {}\n",
        "\n",
        "# loop through each dialogue\n",
        "for f_path in f_tagged_paths[:5]:\n",
        "    # get the xml data for the dialogue\n",
        "    xml = get_xml(f_path)    \n",
        "    # loop through each utterance in the dialogue\n",
        "    for u in xml.iter('u'):\n",
        "        # get the speaker\n",
        "        speaker = u.get('who')\n",
        "        # loop through each word in the utterance\n",
        "        for w in u.iter('w'):\n",
        "            # add the word to the appropriate set based on the speaker\n",
        "            speaker_words.setdefault(speaker, {'words': set()}).get('words').add(w.text)\n",
        "            \n",
        "# check if there is any overlap between the sets of words spoken by each speaker\n",
        "speakers_list = list(speaker_words.keys())\n",
        "if len(speakers_list) > 1:\n",
        "    overlap = set(speaker_words[speakers_list[0]]['words'])\n",
        "    for speaker in speakers_list[1:]:\n",
        "        overlap = overlap.intersection(speaker_words[speaker]['words'])\n",
        "    if len(overlap) > 0:\n",
        "        print('There is vocabulary overlap between the speakers.')\n",
        "    else:\n",
        "        print('There is no vocabulary overlap between the speakers.')\n",
        "else:\n",
        "    print('This dialogue does not have more than 1 speaker.')\n",
        "\n",
        "\n",
        "# merge the speaker_words dictionary with the speakers dataframe\n",
        "df = pd.DataFrame.from_dict(speaker_words, orient='index', columns=['words'])\n",
        "df.index.name = 'speaker'\n",
        "\n",
        "speakers['exactage'] = pd.to_numeric(speakers['exactage'], errors='coerce')\n",
        "# Create a color map for age groups\n",
        "age_groups = pd.cut(speakers['exactage'], [0, 18, 30, 50, 100], include_lowest=True, right=False, labels=['0-18', '18-30', '30-50', '50+'])\n",
        "\n",
        "\n",
        "#merged_df = pd.merge(df, speakers_df, on='speaker')\n",
        "merged_df = pd.merge(df, speakers[['exactage']], left_on='speaker', right_index=True, how='inner')\n",
        "print(merged_df)\n",
        "# group speakers by age into two categories: young (age < 50) and old (age >= 50)\n",
        "merged_df['exactage'] = pd.to_numeric(merged_df['exactage'], errors='coerce')\n",
        "merged_df['age_group'] = merged_df['exactage'].apply(lambda age: 'young' if age < 50 else 'old')\n",
        "\n",
        "# calculate the vocabulary statistics for each age group\n",
        "young_words = set()\n",
        "old_words = set()\n",
        "for _, row in merged_df.iterrows():\n",
        "    if row['age_group'] == 'young':\n",
        "        young_words.update(row['words'])\n",
        "    else:\n",
        "        old_words.update(row['words'])\n",
        "overlap = young_words.intersection(old_words)\n",
        "unique_young_words = young_words.difference(overlap)\n",
        "unique_old_words = old_words.difference(overlap)\n",
        "\n",
        "print(f'Number of unique words spoken by young speakers: {len(unique_young_words)}')\n",
        "print(f'Number of unique words spoken by old speakers: {len(unique_old_words)}')\n",
        "print(f'Number of words spoken by both young and old speakers: {len(overlap)}')\n"
      ]
    },
    {
      "cell_type": "code",
      "execution_count": null,
      "metadata": {
        "colab": {
          "base_uri": "https://localhost:8080/",
          "height": 472
        },
        "id": "cn7BA7bInDzZ",
        "outputId": "b35fc080-1a14-4aa8-e137-fb7d14e7cbef"
      },
      "outputs": [
        {
          "data": {
            "image/png": "[encoded data removed]",
            "text/plain": [
              "<Figure size 640x480 with 1 Axes>"
            ]
          },
          "metadata": {},
          "output_type": "display_data"
        }
      ],
      "source": [
        "import matplotlib.pyplot as plt\n",
        "\n",
        "# create a bar plot\n",
        "plt.bar(['Young', 'Old'], [len(unique_young_words), len(unique_old_words)])\n",
        "plt.title('Number of Unique Words Spoken by Young and Old Speakers')\n",
        "plt.xlabel('Age Group')\n",
        "plt.ylabel('Number of Unique Words')\n",
        "plt.show()\n"
      ]
    },
    {
      "cell_type": "code",
      "execution_count": null,
      "metadata": {
        "colab": {
          "base_uri": "https://localhost:8080/",
          "height": 428
        },
        "id": "mgOnYU4snGq8",
        "outputId": "8dd6830e-145a-4f3b-87c8-651631474f8b"
      },
      "outputs": [
        {
          "data": {
            "image/png": "[encoded data removed]",
            "text/plain": [
              "<Figure size 640x480 with 1 Axes>"
            ]
          },
          "metadata": {},
          "output_type": "display_data"
        }
      ],
      "source": [
        "# calculate the percentage of words that overlap\n",
        "percent_overlap = len(overlap) / (len(unique_young_words) + len(unique_old_words) + len(overlap)) * 100\n",
        "\n",
        "# create a pie chart\n",
        "plt.pie([percent_overlap, 100-percent_overlap], labels=['Overlap', 'Non-Overlap'])\n",
        "plt.title('Percentage of Words Spoken by Young and Old Speakers that Overlap')\n",
        "plt.show()\n"
      ]
    },
    {
      "cell_type": "markdown",
      "metadata": {
        "id": "XxaM_e-dF4ze"
      },
      "source": [
        "### Age – bins creation\n",
        "\n",
        "The age bins code creates age range categories from the 'exactage' column in the 'speakers' dataframe\n",
        "using the `pd.cut()` method. The `bins` variable defines the bin edges as 10 evenly spaced values\n",
        "between the minimum and maximum ages in the 'exactage' column."
      ]
    },
    {
      "cell_type": "code",
      "execution_count": null,
      "metadata": {
        "colab": {
          "base_uri": "https://localhost:8080/"
        },
        "id": "e3eqzcv1Ft9e",
        "outputId": "e9d158ce-1ace-4e80-d1e6-2425a56d650c"
      },
      "outputs": [
        {
          "name": "stdout",
          "output_type": "stream",
          "text": [
            "         exactage\n",
            "age_bin          \n",
            "0-2             1\n",
            "3-10            6\n",
            "11-19          56\n",
            "20-28         157\n",
            "29-37          62\n",
            "38-46          47\n",
            "47-55          67\n",
            "56-64          55\n",
            "65-73          37\n",
            "74-82          26\n",
            "83-91          14\n"
          ]
        }
      ],
      "source": [
        "\n",
        "# create age-range bins\n",
        "bins = np.linspace(min(speakers['exactage']), max(speakers['exactage']), 11)\n",
        "bins = np.insert(bins, 0, -1., axis=0)\n",
        "\n",
        "# add a new column to the speakers dataframe with the bin labels\n",
        "speakers['age_bin'] = pd.cut(speakers['exactage'], bins=bins, labels=[f\"{int(bins[i])+1}-{int(bins[i+1])}\" for i in range(len(bins)-1)])\n",
        "\n",
        "# count the number of speakers in each age group\n",
        "speakers_summary = speakers.groupby('age_bin').agg({'exactage': 'count'})\n",
        "\n",
        "# print the summary\n",
        "print(speakers_summary)\n"
      ]
    },
    {
      "cell_type": "code",
      "execution_count": null,
      "metadata": {
        "colab": {
          "base_uri": "https://localhost:8080/"
        },
        "id": "e-rsRJAmF6VM",
        "outputId": "764538ac-4657-4a32-8106-ff3a23b3c282"
      },
      "outputs": [
        {
          "name": "stdout",
          "output_type": "stream",
          "text": [
            "            rec_length\n",
            "n_speakers            \n",
            "2                  622\n",
            "3                  335\n",
            "4                  198\n",
            "5                   54\n",
            "6                   25\n",
            "7                   11\n",
            "8                    2\n",
            "9                    3\n",
            "12                   1\n"
          ]
        }
      ],
      "source": [
        "# count the number of texts in each number of speakers category\n",
        "texts_summary = texts.groupby('n_speakers').agg({'rec_length': 'count'})\n",
        "\n",
        "# print the summary\n",
        "print(texts_summary)\n"
      ]
    },
    {
      "cell_type": "markdown",
      "metadata": {
        "id": "LxnArp__WL_s"
      },
      "source": [
        "#### Topics summaries\n",
        "The code above extracts insights on summaries of topics in dialogues between younger and older\n",
        "speakers. "
      ]
    },
    {
      "cell_type": "code",
      "execution_count": null,
      "metadata": {
        "colab": {
          "base_uri": "https://localhost:8080/"
        },
        "id": "JO2eV8YkVB-Y",
        "outputId": "743932a0-55da-483e-8ecb-7c20124e47ec"
      },
      "outputs": [
        {
          "name": "stdout",
          "output_type": "stream",
          "text": [
            "  speaker                                             topics\n",
            "0   S0001                                 [Pulling crackers]\n",
            "1   S0002                           [racism/races and crime]\n",
            "2   S0003                                         [drinking]\n",
            "3   S0004  [beans and asparagus, deliberately failing 11+...\n",
            "4   S0005                                            [Music]\n",
            "667\n"
          ]
        }
      ],
      "source": [
        "# split the list of speakers into individual speaker names\n",
        "speakers_topics = texts['list_speakers'].str.split(expand=True).stack().reset_index(level=1, drop=True).rename('speaker')\n",
        "\n",
        "# split the topics by comma and create a new row for each topic-speaker combination\n",
        "topics = texts['topics'].str.split(', ').explode().reset_index(drop=True)\n",
        "speakers_topics = speakers_topics.reset_index(drop=True)\n",
        "topics = topics.reset_index(drop=True)\n",
        "\n",
        "\n",
        "# create a new dataframe by merging the speakers and topics dataframes\n",
        "df_speakers_topics = pd.concat([speakers_topics, topics], axis=1)\n",
        "\n",
        "# group the dataframe by speaker names and aggregate their topics into a list\n",
        "df_speakers_topics = df_speakers_topics.groupby('speaker')['topics'].agg(list).reset_index()\n",
        "print(df_speakers_topics.head())\n",
        "print(len(df_speakers_topics))"
      ]
    },
    {
      "cell_type": "code",
      "execution_count": null,
      "metadata": {
        "id": "Yd8cSRcZeU7m"
      },
      "outputs": [],
      "source": [
        "merged_topics_df = pd.merge(df_speakers_topics, speakers[['exactage']], left_on='speaker', right_index=True, how='inner')\n",
        "merged_topics_df['exactage'] = pd.to_numeric(merged_topics_df['exactage'], errors='coerce')\n",
        "bins = [0, 18, 35, 50, 65, np.inf]\n",
        "labels = ['<18', '18-35', '35-50', '50-65', '65+']\n",
        "merged_topics_df['age_group'] = pd.cut(merged_topics_df['exactage'], bins=bins, labels=labels, right=False)"
      ]
    },
    {
      "cell_type": "code",
      "execution_count": null,
      "metadata": {
        "id": "8Deke_N3ehAz"
      },
      "outputs": [],
      "source": [
        "topic_counts = merged_topics_df.groupby('age_group')['topics'].apply(lambda x: pd.Series(x.sum()).value_counts())"
      ]
    },
    {
      "cell_type": "code",
      "execution_count": null,
      "metadata": {
        "colab": {
          "base_uri": "https://localhost:8080/"
        },
        "id": "HEkQ2yt_fj-9",
        "outputId": "208a5d24-b717-4439-92aa-d7201daf5c45"
      },
      "outputs": [
        {
          "name": "stdout",
          "output_type": "stream",
          "text": [
            "age_group                           \n",
            "<18        food                         8\n",
            "           work                         8\n",
            "           family                       5\n",
            "           weather                      4\n",
            "           cooking                      4\n",
            "                                       ..\n",
            "65+        the flooding in Lancaster    1\n",
            "           golf                         1\n",
            "           health                       1\n",
            "           Family                       1\n",
            "           furniture in rooms           1\n",
            "Name: topics, Length: 2639, dtype: int64\n"
          ]
        }
      ],
      "source": [
        "print(topic_counts)\n",
        "topic_counts.to_csv('/content/drive/MyDrive/bnc2014spoken-xml/topic_counts.txt', sep='\\t')\n",
        "df_topic_counts = pd.DataFrame(topic_counts, columns=['count'])\n",
        "df_topic_counts.to_excel('/content/drive/MyDrive/bnc2014spoken-xml/topic_counts.xlsx', index=True)\n"
      ]
    },
    {
      "cell_type": "markdown",
      "metadata": {
        "id": "lk48c5u_493f"
      },
      "source": [
        "### Clustering the topic statistics using KMeans\n",
        "\n",
        "By splitting the\n",
        "speakers' names and topics into separate dataframes and then merges them together. The resulting\n",
        "dataframe is grouped by speaker names, aggregating their topics into lists. The age information is\n",
        "merged and processed, converting it to numeric and creating age groups. Next, the topics are\n",
        "vectorized using TF-IDF, and K-means clustering is applied with five clusters. Finally, the cluster\n",
        "labels are added to the dataframe for further analysis or visualization."
      ]
    },
    {
      "cell_type": "code",
      "execution_count": null,
      "metadata": {
        "id": "T_fIuSNQqRiF"
      },
      "outputs": [],
      "source": [
        "from sklearn.feature_extraction.text import TfidfVectorizer\n",
        "from sklearn.cluster import KMeans, DBSCAN\n",
        "# Split the list of speakers into individual speaker names\n",
        "speakers_topics = texts['list_speakers'].str.split(expand=True).stack().reset_index(level=1, drop=True).rename('speaker')\n",
        "\n",
        "# Split the topics by comma and create a new row for each topic-speaker combination\n",
        "topics = texts['topics'].str.split(', ').explode().reset_index(drop=True)\n",
        "speakers_topics = speakers_topics.reset_index(drop=True)\n",
        "topics = topics.reset_index(drop=True)\n",
        "\n",
        "# Create a new dataframe by merging the speakers and topics dataframes\n",
        "df_speakers_topics = pd.concat([speakers_topics, topics], axis=1)\n",
        "\n",
        "# Group the dataframe by speaker names and aggregate their topics into a list\n",
        "df_speakers_topics = df_speakers_topics.groupby('speaker')['topics'].agg(list).reset_index()\n",
        "\n",
        "merged_topics_df_Kmeans = pd.merge(df_speakers_topics, speakers[['exactage']], left_on='speaker', right_index=True, how='inner')\n",
        "merged_topics_df_Kmeans['exactage'] = pd.to_numeric(merged_topics_df_Kmeans['exactage'], errors='coerce')\n",
        "merged_topics_df_Kmeans.dropna(inplace=True)\n",
        "\n",
        "bins = [0, 18, 35, 50, 65, np.inf]\n",
        "labels = ['<18', '18-35', '35-50', '50-65', '65+']\n",
        "merged_topics_df_Kmeans['age_group'] = pd.cut(merged_topics_df_Kmeans['exactage'], bins=bins, labels=labels, right=False)\n",
        "\n",
        "\n",
        "# Convert exactage to string\n",
        "merged_topics_df_Kmeans['exactage_str'] = merged_topics_df_Kmeans['exactage'].astype(str)\n",
        "\n",
        "# Vectorize the topics using TF-IDF\n",
        "vectorizer = TfidfVectorizer(stop_words='english')\n",
        "X = vectorizer.fit_transform(merged_topics_df_Kmeans['exactage_str'])\n",
        "\n",
        "# Cluster the topics using KMeans\n",
        "kmeans = KMeans(n_clusters=5, random_state=42)\n",
        "kmeans.fit(X)\n",
        "\n",
        "# Add the cluster labels to the grouped_df\n",
        "merged_topics_df_Kmeans['cluster'] = kmeans.labels_"
      ]
    },
    {
      "cell_type": "markdown",
      "metadata": {
        "id": "hW6KTM9Z5ihj"
      },
      "source": [
        "#### Summarization Techniques\n",
        "\n",
        "Here we are extracting summaries from the tagged xml files in following ways and they are compared.\n",
        "\n",
        "1.  Extarctive summary \n",
        "2.  Abstractive summary\n"
      ]
    },
    {
      "cell_type": "code",
      "execution_count": null,
      "metadata": {
        "colab": {
          "base_uri": "https://localhost:8080/"
        },
        "id": "dTRNCXXw8N1C",
        "outputId": "00421481-6f83-442e-e1c7-b3aebe5df538"
      },
      "outputs": [
        {
          "name": "stderr",
          "output_type": "stream",
          "text": [
            "[nltk_data] Downloading package punkt to /root/nltk_data...\n",
            "[nltk_data]   Package punkt is already up-to-date!\n",
            "[nltk_data] Downloading package stopwords to /root/nltk_data...\n",
            "[nltk_data]   Unzipping corpora/stopwords.zip.\n"
          ]
        },
        {
          "name": "stdout",
          "output_type": "stream",
          "text": [
            "/content/drive/MyDrive/bnc2014spoken-xml/spoken/tagged/S7KK-tgd.xml\n",
            "Summary: yeah doctor 's I n't understand doctors probably different kind doctors ca n't know n't got resources get allergy doctors people cos I 've mm mm n't allergies ? two onslaught well 's 's difficult enough fairly close together mm mm closer together mine mm girls yeah mm er two exactly 's going easy ? 's --ANONplace mm wealthy parents 're mm lunches mm poor fussy children mm n't cos n't like food ?\n",
            "/content/drive/MyDrive/bnc2014spoken-xml/spoken/tagged/S7QU-tgd.xml\n",
            "Summary: Away uh Away yeah yeah yeah smell bad yes 're going wrong ? mm mm cider v- oh yes please yeah cider vinegar 's got uh loads health properties know n't ? Um yeah n't know yes please yeah shall cup coffee ?\n",
            "/content/drive/MyDrive/bnc2014spoken-xml/spoken/tagged/S7NH-tgd.xml\n",
            "Summary: mm I think 's always frustration life must I mean 's way 's fault 's 's 's structure monarchy n't ? 's windy well 's 's 's actually 's quite grey cloud coming I n't know whether put washing I mean might 're usually edge n't ? 's high get bedroom ones ca n't kitchen one yeah 's 's ledge yeah 's quite big distance yeah I mean ro- chair n't tried ?\n",
            "/content/drive/MyDrive/bnc2014spoken-xml/spoken/tagged/S7NJ-tgd.xml\n",
            "Summary: yeah 's 's go I n't think 're going another game yeah carry carry alright 's four 's alright I think three go oh cos last one went ? 's hardly vegetarian options 's pearl barley yeah 's bit weedy really I think probably go pizza said n't ? hold end 's I said yeah n't tube though overground 's tube I thought tube 'd get overland basically means 's nearest place catch overland ?\n",
            "/content/drive/MyDrive/bnc2014spoken-xml/spoken/tagged/S7KD-tgd.xml\n",
            "Summary: ? okay --UNCLEARWORD I yeah  's I come 's way I go yeah I 'm always like ooh yeah 's --ANONnameM 's car I 'm like whose black car ? whole pram yeah I n't seen 's fat 's --ANONnameF talking earlier n't go --UNCLEARWORD oh 's cute see 's thing like --UNCLEARWORD base bit ?\n"
          ]
        }
      ],
      "source": [
        "nltk.download('punkt')\n",
        "\n",
        "# Define the directory containing the untagged XML files\n",
        "dir_path = \"/content/drive/MyDrive/bnc2014spoken-xml/spoken/tagged\"\n",
        "\n",
        "# Get a list of all the untagged XML files in the directory\n",
        "f_tagged_paths = [os.path.join(dir_path, f) for f in os.listdir(dir_path) if f.endswith(\".xml\")]\n",
        "nltk.download('stopwords')\n",
        "# Define the stop words\n",
        "stop_words = set(stopwords.words('english'))\n",
        "\n",
        "# Loop over each untagged XML file\n",
        "for f_path in f_tagged_paths[:5]:\n",
        "    xml = ET.parse(f_path).getroot()\n",
        "    print(f_path)\n",
        "    text = \"\"\n",
        "    for u in xml.iter('u'):\n",
        "        words = [w.text for w in u.iter('w') if w.text not in stop_words]\n",
        "        text += \" \".join(words) + \" \"\n",
        "    \n",
        "    # Split the text into sentences\n",
        "    sentences = sent_tokenize(text)\n",
        "    \n",
        "    # Calculate the frequency of each word in the text\n",
        "    word_freqs = Counter(text.split())\n",
        "    \n",
        "    # Calculate the importance of each sentence based on word frequency\n",
        "    sentence_scores = {}\n",
        "    for sentence in sentences:\n",
        "        for word in nltk.word_tokenize(sentence.lower()):\n",
        "            if word in word_freqs:\n",
        "                if len(sentence.split()) < 30:\n",
        "                    if sentence not in sentence_scores:\n",
        "                        sentence_scores[sentence] = word_freqs[word]\n",
        "                    else:\n",
        "                        sentence_scores[sentence] += word_freqs[word]\n",
        "    \n",
        "    # Get the top 3 sentences with the highest scores and print them as a summary\n",
        "    summary_sentences = sorted(sentence_scores, key=sentence_scores.get, reverse=True)[:3]\n",
        "    summary = \" \".join(summary_sentences)\n",
        "    print(\"Summary:\", summary)\n"
      ]
    },
    {
      "cell_type": "code",
      "execution_count": null,
      "metadata": {
        "colab": {
          "base_uri": "https://localhost:8080/"
        },
        "id": "zBSa9P11_pME",
        "outputId": "1b5007e3-58a2-41f4-a83d-57d3b271b38e"
      },
      "outputs": [
        {
          "name": "stdout",
          "output_type": "stream",
          "text": [
            "? okay --UNCLEARWORD I yeah  's I come 's way I go yeah I 'm always like ooh yeah 's --ANONnameM 's car I 'm like whose black car ? whole pram yeah I n't seen 's fat 's --ANONnameF talking earlier n't go --UNCLEARWORD oh 's cute see 's thing like --UNCLEARWORD base bit ?\n"
          ]
        }
      ],
      "source": [
        "print(summary)"
      ]
    },
    {
      "cell_type": "code",
      "execution_count": null,
      "metadata": {
        "colab": {
          "base_uri": "https://localhost:8080/",
          "height": 420,
          "referenced_widgets": [
            "ff58b160251e47169a5724c485761cac",
            "5690cbda66454c2eb191e5a9151b0bf9",
            "4892589e2a8349729babbaf4a5478a9b",
            "6211ac1ebebd4bfe803403f7e8f72b1c",
            "d784ceff69df4798b26606ff21f89732",
            "06618cd7cc4c4c92b7860f40d350047d",
            "c2b82df842624fab8189e85bb056b468",
            "2e9d9acd581e4f1c8aca379f5e73f9a9",
            "e51298c0170549a196e2015a93298d48",
            "aa05dbd617ab42b395338225eae0b59c",
            "432f620884c342468c9ee4f5a1818159",
            "e6f0e95b1add46a4ae4af94968526fea",
            "268fd7de32c649f087672ff8374f2325",
            "ead5be9fa8764aba89af596b79b4db62",
            "3803bf9efc5844efa0ef825f27535df8",
            "9a2b63d65b5e4e0f9d3e3ce06a1f8b9a",
            "285abcf4671d479382701b24fa973d72",
            "83b2951b4c094f6887f3785012b8c99b",
            "8b5a15d0d16144a092ddb954390c4965",
            "da7eebfe1bbf4ec4a447ef415f3220e7",
            "efcb2c55aa78462b95c8a10909b48b0a",
            "c23e0d5c7be84293b1c018ee5c7b5cd1",
            "1bdb067dfeeb40bbac90a1fa7b583bc5",
            "292b7ceef6be47d09ddd48ba08159ca4",
            "f061c776e693483383f08d7e04bf392f",
            "aed7642372cf49ba9e6d79f439e990b4",
            "8aa0e352a4a64cdd96c610e959ff70b3",
            "436c4f1d00ec4174926cadd31ff0abf2",
            "32d1b3a274514c9fbeb1b4364c98283f",
            "02ba1dc60d9a47f6be59404d12f2b12e",
            "a0f5fdca2c334b09b143c836ef9a5851",
            "bdef75fb62874e239afb56369483c360",
            "37b5d80f0e5e49d888e0a6387707aa1a",
            "7c98c391859a45bc98664a84ad7c813d",
            "49e3616558b9432d98c883a6c999d728",
            "4ba79848e06442ebbf0eb13cb4feb770",
            "bdd7a5b067b1493ea7a36cd5bee3f888",
            "553469f3339d429595153d1fbd554e03",
            "ac9000d015bc42e2a4c450163ed75716",
            "dc2525023f944e8fbf67e6725ca7c8bc",
            "e8490faac6914b06897a0a17203d2bb8",
            "d4897c99fe57468f9fa9cf7162589939",
            "695798606c5a4e3ea034d600c5392a8f",
            "346090d5d9cd4faea84bcbc1e1f819ca"
          ]
        },
        "id": "5jcqAWxv8-zs",
        "outputId": "e098856e-9a9d-4e1b-d4f9-dece86312f7d"
      },
      "outputs": [],
      "source": [
        "from transformers import T5Tokenizer, T5ForConditionalGeneration\n",
        "\n",
        "# Load the T5 model and tokenizer\n",
        "model = T5ForConditionalGeneration.from_pretrained(\"t5-base\")\n",
        "tokenizer = T5Tokenizer.from_pretrained(\"t5-base\")\n",
        "\n",
        "# Define the input text\n",
        "input_text = \"okay --UNCLEARWORD I yeah 's I come's way I go yeah I'm always like ooh yeah's --ANONnameM's car I'm like whose black car? whole pram yeah In't seen 's fat 's --ANONnameF talking earlier n't go --UNCLEARWORD oh 's cute see 's thing like --UNCLEARWORD base bit ?\"\n",
        "\n",
        "# Tokenize the input text and generate the summary\n",
        "input_ids = tokenizer.encode(input_text, return_tensors=\"pt\", max_length=512)\n",
        "outputs = model.generate(input_ids=input_ids, max_length=150, num_beams=4, early_stopping=True)\n",
        "summary = tokenizer.decode(outputs[0], skip_special_tokens=True)\n",
        "\n",
        "# Print the summary\n",
        "print(\"Summary:\", summary)\n",
        "\n"
      ]
    },
    {
      "cell_type": "markdown",
      "metadata": {
        "id": "NSXR3v-4j2XW"
      },
      "source": [
        "### Train a logistic classifier using the features extracted from the previous training \n",
        "\n",
        "\n",
        "\n",
        "\n",
        "\n",
        "\n"
      ]
    },
    {
      "cell_type": "markdown",
      "metadata": {
        "id": "vOGVs8676JZ1"
      },
      "source": [
        "1) Logistic regression classifier to predict age based on average utterance length"
      ]
    },
    {
      "cell_type": "code",
      "execution_count": null,
      "metadata": {
        "id": "cpEJMa-6jW-4"
      },
      "outputs": [],
      "source": [
        "from sklearn.model_selection import train_test_split\n",
        "from sklearn.metrics import accuracy_score, f1_score, precision_score, recall_score, classification_report, confusion_matrix\n",
        "\n",
        "\n",
        "# split the data into training and test sets\n",
        "train_size = int(0.8 * len(df))\n",
        "train_data = df.iloc[:train_size, :]\n",
        "test_data = df.iloc[train_size:, :]\n",
        "\n",
        "# train a logistic regression classifier\n",
        "from sklearn.linear_model import LogisticRegression\n",
        "\n",
        "X_train = train_data[['age', 'avg_utterance_length']]\n",
        "y_train = train_data['age']\n",
        "\n",
        "classifier = LogisticRegression(random_state=0).fit(X_train, y_train)\n",
        "\n",
        "\n",
        "# report most informative features\n",
        "coefficients = pd.DataFrame(zip(X_train.columns, classifier.coef_[0]), columns=['Feature', 'Coefficient'])\n",
        "most_informative = coefficients.sort_values(by='Coefficient', ascending=False).head(5)\n",
        "print(most_informative)\n",
        "\n",
        "X_test = test_data[['age', 'avg_utterance_length']]\n",
        "y_test = test_data['age']\n",
        "# Predict on the test set\n",
        "y_pred = classifier.predict(X_test)\n",
        "\n",
        "# Evaluate the model's performance\n",
        "from sklearn.metrics import r2_score\n",
        "\n",
        "accuracy = r2_score(y_test, y_pred)\n",
        "\n",
        "print(accuracy)\n",
        "precision = precision_score(y_test, y_pred, average='weighted')\n",
        "recall = recall_score(y_test, y_pred, average='weighted')\n",
        "print(precision)\n",
        "print(recall)"
      ]
    },
    {
      "cell_type": "markdown",
      "metadata": {
        "id": "3SuBDfVI6Hni"
      },
      "source": [
        "2) Logistic regression model for vocabulary overlap prediction based on age "
      ]
    },
    {
      "cell_type": "code",
      "execution_count": null,
      "metadata": {
        "id": "CtLaUrnlp7ab"
      },
      "outputs": [],
      "source": [
        "\n",
        "from sklearn.feature_extraction.text import CountVectorizer\n",
        "from sklearn.linear_model import LogisticRegression\n",
        "from sklearn.metrics import accuracy_score\n",
        "\n",
        "# load the merged data\n",
        "\n",
        "\n",
        "# preprocess the data\n",
        "merged_df['exactage'] = pd.to_numeric(merged_df['exactage'], errors='coerce')\n",
        "merged_df = merged_df.dropna(subset=['exactage'])\n",
        "print(merged_df['words'])\n",
        "#merged_df['age_group'] = pd.cut(merged_df['exactage'], [0, 50, 100], labels=['young', 'old'])\n",
        "#merged_df['words'] = merged_df['words'].apply(lambda words: ' '.join(words))\n",
        "merged_df.loc[:, 'age_group'] = pd.cut(merged_df['exactage'], [0, 50, 100], labels=['young', 'old'])\n",
        "merged_df.loc[:, 'words'] = merged_df['words'].apply(lambda words: ' '.join(words))\n",
        "\n",
        "# split the data into training and testing data\n",
        "train_df = merged_df.sample(frac=0.8, random_state=42)\n",
        "test_df = merged_df.drop(train_df.index)\n",
        "print(train_df['words'])\n",
        "\n",
        "# vectorize the words\n",
        "vectorizer = CountVectorizer(stop_words='english')\n",
        "X_train = vectorizer.fit_transform(train_df['words'])\n",
        "X_test = vectorizer.transform(test_df['words'])\n",
        "\n",
        "\n",
        "# encode the age group labels\n",
        "y_train = train_df['age_group'].apply(lambda age_group: 1 if age_group == 'old' else 0)\n",
        "y_test = test_df['age_group'].apply(lambda age_group: 1 if age_group == 'old' else 0)\n",
        "\n",
        "# train the logistic regression classifier\n",
        "clf = LogisticRegression(random_state=42)\n",
        "clf.fit(X_train, y_train)\n",
        "\n",
        "# evaluate the performance on the testing data\n",
        "y_pred = clf.predict(X_test)\n",
        "accuracy = accuracy_score(y_test, y_pred)\n",
        "print(f'The accuracy of the logistic regression classifier is {accuracy:.2f}.')\n"
      ]
    },
    {
      "cell_type": "markdown",
      "metadata": {
        "id": "ER_mTdEI6bkn"
      },
      "source": [
        "### Results\n",
        "\n",
        "1) Logistic regression classfier predicting age on average utterance length\n",
        "\n",
        "**Accuracy:** 0.7538823056468924\n",
        "\n",
        "2) Logistic regression classfier predicting age group (young or old) on vocabulary used.\n",
        "\n",
        "**Accuracy:** 0.678056927\n",
        "\n"
      ]
    },
    {
      "cell_type": "markdown",
      "metadata": {
        "id": "GVHUx2Nc6GWA"
      },
      "source": [
        "### Random forest classifier: \n",
        "A complex random forest classifier to classify age and utterance length dataset used in the first classfier"
      ]
    },
    {
      "cell_type": "code",
      "execution_count": null,
      "metadata": {
        "id": "c8YxUpUz9DAj"
      },
      "outputs": [],
      "source": [
        "from sklearn.ensemble import RandomForestClassifier\n",
        "rf = RandomForestClassifier(n_estimators=100, max_depth=5).fit(X_train, y_train)\n",
        "\n",
        "# Evaluate the performance of the model on the test set\n",
        "\n",
        "y_pred = rf.predict(X_test)\n",
        "\n",
        "accuracy = accuracy_score(y_test, y_pred)\n",
        "f1 = f1_score(y_test, y_pred, average='weighted')\n",
        "precision = precision_score(y_test, y_pred, average='weighted')\n",
        "recall = recall_score(y_test, y_pred, average='weighted')\n",
        "cm = confusion_matrix(y_test, y_pred)\n",
        "\n",
        "print(f\"Accuracy: {accuracy:.4f}\")\n",
        "print(f\"F1 score: {f1:.4f}\")\n",
        "print(f\"Precision: {precision:.4f}\")\n",
        "print(f\"Recall: {recall:.4f}\")\n",
        "print(\"Confusion matrix:\")\n",
        "print(cm)"
      ]
    },
    {
      "cell_type": "markdown",
      "metadata": {
        "id": "p4f2erEe686f"
      },
      "source": [
        "#### Results of random Forest classifier\n",
        "\n",
        "**Accuracy:** 0.8903\n",
        "\n",
        "**F1 score:** 0.7430\n",
        "\n",
        "**Precision:** 0.8881\n",
        "\n",
        "**Recall:** 0.6903\n",
        "\n",
        "**Confusion matrix:**\n",
        "\n",
        "[[ 48 0 0 0]\n",
        "\n",
        "[ 0 32 0 0]\n",
        "\n",
        "[ 0 0 37 0]\n",
        "\n",
        "[ 0 0 0 43]]"
      ]
    },
    {
      "cell_type": "markdown",
      "metadata": {
        "id": "JAxQr0mJ9ORB"
      },
      "source": [
        "### Additional Tasks : Data preprocessing and untagged XML file\n",
        "\n",
        "1) Tokenize the Xml \n",
        "\n",
        "2) chunking, POS tags and NER (Named entity recognition)\n",
        "\n",
        "3) Collocations finder"
      ]
    },
    {
      "cell_type": "code",
      "execution_count": null,
      "metadata": {
        "id": "CIFskRjygfuX"
      },
      "outputs": [],
      "source": [
        "from nltk.corpus import stopwords\n",
        "from nltk.tokenize import sent_tokenize"
      ]
    },
    {
      "cell_type": "code",
      "execution_count": null,
      "metadata": {
        "colab": {
          "base_uri": "https://localhost:8080/"
        },
        "id": "YYEJOD6VHRix",
        "outputId": "109fdcaf-90ea-4147-8340-d638ca0d2a13"
      },
      "outputs": [
        {
          "name": "stderr",
          "output_type": "stream",
          "text": [
            "[nltk_data] Downloading package averaged_perceptron_tagger to\n",
            "[nltk_data]     /root/nltk_data...\n",
            "[nltk_data]   Unzipping taggers/averaged_perceptron_tagger.zip.\n",
            "[nltk_data] Downloading package punkt to /root/nltk_data...\n",
            "[nltk_data]   Unzipping tokenizers/punkt.zip.\n"
          ]
        },
        {
          "data": {
            "text/plain": [
              "True"
            ]
          },
          "execution_count": 46,
          "metadata": {},
          "output_type": "execute_result"
        }
      ],
      "source": [
        "nltk.download('averaged_perceptron_tagger')\n",
        "nltk.download('punkt')\n"
      ]
    },
    {
      "cell_type": "code",
      "execution_count": null,
      "metadata": {
        "id": "FZbI1U7Q9NSD"
      },
      "outputs": [],
      "source": [
        "# Load the XML file\n",
        "tree = ET.parse('/content/drive/MyDrive/bnc2014spoken-xml/spoken/untagged/S2A5.xml')\n",
        "root = tree.getroot()\n",
        "\n",
        "# Extract the text content of the XML tags\n",
        "texts_tok = []\n",
        "for conversation in root.findall('.//u'):\n",
        "    text = conversation.text\n",
        "    texts_tok.append(text)\n",
        "\n"
      ]
    },
    {
      "cell_type": "code",
      "execution_count": null,
      "metadata": {
        "colab": {
          "base_uri": "https://localhost:8080/"
        },
        "id": "ACYKQhaw9TeG",
        "outputId": "dac5dd12-4431-4a79-e54f-3edfc3c3f8e7"
      },
      "outputs": [
        {
          "name": "stdout",
          "output_type": "stream",
          "text": [
            "[('an', 'DT'), ('hour', 'NN'), ('later', 'RB'), ('well', 'RB'), ('she', 'PRP'), ('had', 'VBD'), ('those', 'DT'), ('two', 'CD'), ('hours', 'NNS'), ('earlier', 'RBR'), ('yeah', 'RB'), ('I', 'PRP'), ('know', 'VBP'), ('but', 'CC'), ('that', 'DT'), (\"'s\", 'VBZ'), ('why', 'WRB'), ('we', 'PRP'), (\"'re\", 'VBP'), ('an', 'DT'), ('hour', 'NN'), ('late', 'RB'), ('is', 'VBZ'), (\"n't\", 'RB'), ('it', 'PRP'), ('?', '.'), ('did', 'VBD'), ('you', 'PRP'), ('text', 'VB'), ('yeah', 'UH'), ('oh', 'IN'), ('that', 'DT'), (\"'s\", 'VBZ'), ('twice', 'RB'), ('I', 'PRP'), (\"'ve\", 'VBP'), ('cancelled', 'VBN'), ('now', 'RB'), ('some', 'DT'), ('people', 'NNS'), ('get', 'VBP'), ('jet', 'JJ'), ('lag', 'NN'), ('it', 'PRP'), (\"'s\", 'VBZ'), ('nearly', 'RB'), ('been', 'VBN'), ('a', 'DT'), ('week', 'NN'), ('mm', 'NN'), ('you', 'PRP'), ('get', 'VBP'), ('over', 'IN'), ('in', 'IN'), ('a', 'DT'), ('couple', 'NN'), ('of', 'IN'), ('days', 'NNS'), ('going', 'VBG'), ('the', 'DT'), ('other', 'JJ'), ('way', 'NN'), ('everybody', 'NN'), ('says', 'VBZ'), ('this', 'DT'), ('direction', 'NN'), ('mm', 'NN'), ('yeah', 'UH'), ('back', 'RB'), ('to', 'TO'), ('normal', 'JJ'), ('we', 'PRP'), ('were', 'VBD'), ('both', 'DT'), ('yeah', 'FW'), ('we', 'PRP'), ('no', 'DT'), ('mm', 'NN'), ('yeah', 'RB'), ('well', 'RB'), ('she', 'PRP'), (\"'s\", 'VBZ'), ('still', 'RB'), ('not', 'RB'), ('back', 'RB'), ('to', 'TO'), ('normal', 'JJ'), ('I', 'PRP'), ('hope', 'VBP'), ('she', 'PRP'), ('sleep', 'JJ'), ('tonight', 'JJ'), ('mm', 'NN'), ('I', 'PRP'), (\"'m\", 'VBP'), ('fed', 'VBN'), ('up', 'IN'), ('of', 'IN'), ('her', 'PRP$'), ('getting', 'VBG'), ('up', 'RP'), ('mm', 'NN'), ('no', 'RB'), ('well', 'RB'), ('mind', 'IN'), ('you', 'PRP'), ('I', 'PRP'), ('yeah', 'VBP'), ('I', 'PRP'), ('did', 'VBD'), (\"n't\", 'RB'), ('sleep', 'VB'), ('well', 'RB'), ('actually', 'RB'), ('she', 'PRP'), ('slept', 'VBD'), ('in', 'IN'), ('my', 'PRP$'), ('in', 'IN'), ('our', 'PRP$'), ('bed', 'NN'), ('yeah', 'NN'), ('again', 'RB'), ('and', 'CC'), ('I', 'PRP'), (\"'ve\", 'VBP'), ('got', 'VBN'), ('and', 'CC'), ('I', 'PRP'), (\"'m\", 'VBP'), ('not', 'RB'), ('allowed', 'VBN'), ('to', 'TO'), ('do', 'VB'), ('that', 'DT'), ('cos', 'NN'), ('I', 'PRP'), ('wake', 'VBP'), ('her', 'PRP$'), ('up', 'JJ'), ('hi', 'NN'), ('and', 'CC'), ('I', 'PRP'), (\"'m\", 'VBP'), ('like', 'IN'), ('oh', 'UH'), ('mm', 'NN'), ('no', 'DT'), ('and', 'CC'), ('they', 'PRP'), ('say', 'VBP'), ('you', 'PRP'), ('but', 'CC'), ('she', 'PRP'), ('just', 'RB'), ('would', 'MD'), (\"n't\", 'RB'), ('settle', 'VB'), ('down', 'RP'), ('mm', 'NN'), ('and', 'CC'), ('she', 'PRP'), ('settled', 'VBD'), ('down', 'RB'), ('when', 'WRB'), ('she', 'PRP'), ('was', 'VBD'), ('being', 'VBG'), ('cuddled', 'VBN'), ('mm', 'NN'), ('a', 'DT'), ('bit', 'NN'), ('worried', 'JJ'), ('that', 'IN'), ('her', 'PRP$'), ('yeah', 'NN'), ('well', 'NN'), ('you', 'PRP'), ('do', 'VBP'), (\"n't\", 'RB'), ('wan', 'VB'), ('na', 'JJ'), ('start', 'NN'), ('like', 'IN'), ('comforting', 'VBG'), ('her', 'PRP$'), ('all', 'PDT'), ('the', 'DT'), ('time', 'NN'), ('her', 'PRP$'), ('change', 'NN'), ('happened', 'VBD'), ('from', 'IN'), ('cuddling', 'VBG'), ('I', 'PRP'), ('think', 'VBP'), ('yeah', 'RB'), ('right', 'RB'), ('at', 'IN'), ('the', 'DT'), ('end', 'NN'), ('of', 'IN'), ('the', 'DT'), ('holiday', 'NN'), ('which', 'WDT'), ('means', 'VBZ'), ('that', 'IN'), ('she', 'PRP'), (\"'s\", 'VBZ'), ('jet-lagged', 'JJ'), ('and', 'CC'), ('she', 'PRP'), (\"'s\", 'VBZ'), ('gets', 'VBZ'), ('mm', 'JJ'), ('and', 'CC'), ('so', 'RB'), ('mm', 'JJ'), ('ca', 'MD'), (\"n't\", 'RB'), ('like', 'VB'), ('ca', 'MD'), (\"n't\", 'RB'), ('be', 'VB'), ('mean', 'JJ'), ('huh', 'NN'), ('got', 'VBD'), ('ta', 'RB'), ('be', 'VB'), ('confused', 'VBN'), ('as', 'IN'), ('a', 'DT'), ('baby', 'NN'), ('have', 'VBP'), (\"n't\", 'RB'), ('you', 'PRP'), ('?', '.'), ('mm', 'VB'), ('all', 'DT'), ('of', 'IN'), ('that', 'DT'), ('mm', 'NN'), ('mm', 'RB'), ('have', 'VBP'), ('we', 'PRP'), ('got', 'VBD'), ('enough', 'RB'), ('clothes', 'NNS'), ('to', 'TO'), ('last', 'JJ'), ('her', 'PRP$'), ('?', '.'), ('wan', 'NN'), ('na', 'NN'), ('go', 'VBP'), ('through', 'IN'), ('the', 'DT'), ('new', 'JJ'), ('bag', 'NN'), ('actually', 'RB'), ('mm', 'JJ'), ('and', 'CC'), ('there', 'EX'), (\"'s\", 'VBZ'), ('two', 'CD'), ('pairs', 'NNS'), ('mm', 'VBP'), ('so', 'RB'), ('yeah', 'RB'), ('so', 'IN'), ('we', 'PRP'), (\"'ll\", 'MD'), ('see', 'VB'), ('how', 'WRB'), ('she', 'PRP'), ('goes', 'VBZ'), ('mm', 'RB'), ('I', 'PRP'), ('mean', 'VBP'), ('she', 'PRP'), (\"'s\", 'VBZ'), ('fine', 'JJ'), ('in', 'IN'), ('all', 'DT'), ('her', 'PRP$'), ('dresses', 'NNS'), ('at', 'IN'), ('the', 'DT'), ('moment', 'NN'), ('mm', 'NN'), ('they', 'PRP'), (\"'re\", 'VBP'), ('getting', 'VBG'), ('a', 'DT'), ('bit', 'NN'), ('short', 'JJ'), ('though', 'IN'), ('mm', 'JJ'), ('getting', 'VBG'), ('shorter', 'NN'), ('and', 'CC'), ('shorter', 'NN'), ('and', 'CC'), ('shorter', 'JJR'), ('like', 'IN'), ('little', 'JJ'), ('tops', 'NNS'), ('with', 'IN'), ('a', 'DT'), ('nappy', 'JJ'), ('poking', 'VBG'), ('underneath', 'JJ'), ('no', 'DT'), ('she', 'PRP'), ('does', 'VBZ'), (\"n't\", 'RB'), ('need', 'VB'), ('many', 'JJ'), ('clothes', 'NNS'), ('at', 'IN'), ('the', 'DT'), ('moment', 'NN'), ('does', 'VBZ'), ('she', 'PRP'), ('?', '.'), ('really', 'RB'), ('?', '.'), ('so', 'RB'), ('hot', 'JJ'), ('no', 'DT'), ('I', 'PRP'), ('do', 'VBP'), ('like', 'IN'), ('when', 'WRB'), ('going', 'VBG'), ('out', 'RP'), ('I', 'PRP'), ('do', 'VBP'), ('like', 'IN'), ('to', 'TO'), ('put', 'VB'), ('on', 'IN'), ('you', 'PRP'), ('know', 'VBP'), ('nice', 'JJ'), ('little', 'JJ'), ('like', 'IN'), ('that', 'DT'), ('yeah', 'VBZ'), ('that', 'WDT'), (\"'s\", 'VBZ'), ('more', 'JJR'), ('for', 'IN'), ('showy', 'NN'), ('is', 'VBZ'), (\"n't\", 'RB'), ('it', 'PRP'), ('?', '.'), ('being', 'VBG'), ('no', 'DT'), ('it', 'PRP'), (\"'s\", 'VBZ'), ('because', 'IN'), ('she', 'PRP'), ('we', 'PRP'), ('?', '.'), ('yeah', 'VB'), ('what', 'WP'), ('she', 'PRP'), ('tell', 'VBP'), ('you', 'PRP'), ('?', '.'), ('well', 'RB'), ('I', 'PRP'), (\"'ve\", 'VBP'), ('got', 'VBN'), ('rubbish', 'JJ'), ('clothes', 'NNS'), ('how', 'WRB'), ('how', 'WRB'), ('do', 'VBP'), ('you', 'PRP'), ('know', 'VB'), ('she', 'PRP'), ('feels', 'VB'), ('better', 'JJR'), ('?', '.'), ('cos', 'NN'), ('she', 'PRP'), ('smiles', 'VBZ'), ('so', 'RB'), ('much', 'JJ'), ('chooses', 'NNS'), ('one', 'CD'), ('and', 'CC'), ('grabs', 'VB'), ('one', 'CD'), ('mm', 'NN'), ('oh', 'IN'), ('you', 'PRP'), (\"'re\", 'VBP'), ('so', 'RB'), ('cute', 'JJ'), ('mm', 'NN'), ('you', 'PRP'), (\"'ve\", 'VBP'), ('got', 'VBN'), ('ta', 'NNS'), ('have', 'VBP'), ('mm', 'VBN'), ('blue', 'JJ'), ('yeah', 'NN'), ('yeah', 'NN'), ('if', 'IN'), ('she', 'PRP'), ('was', 'VBD'), ('in', 'IN'), ('grey', 'JJ'), ('do', 'VBP'), ('you', 'PRP'), ('think', 'VB'), ('she', 'PRP'), (\"'d\", 'MD'), ('feel', 'VB'), ('good', 'JJ'), ('?', '.'), ('I', 'PRP'), ('do', 'VBP'), (\"n't\", 'RB'), ('think', 'VB'), ('she', 'PRP'), ('would', 'MD'), ('I', 'PRP'), ('think', 'VB'), ('she', 'PRP'), (\"'d\", 'MD'), ('feel', 'VB'), ('rubbish', 'JJ'), ('if', 'IN'), ('I', 'PRP'), ('dunno', 'VBP'), ('shall', 'MD'), ('we', 'PRP'), ('do', 'VB'), ('it', 'PRP'), ('?', '.'), ('no', 'DT'), ('I', 'PRP'), ('want', 'VBP'), ('experiment', 'JJ'), ('I', 'PRP'), ('want', 'VBP'), ('her', 'PRP'), ('to', 'TO'), ('feel', 'VB'), ('lovely', 'RB'), ('well', 'RB'), ('we', 'PRP'), ('should', 'MD'), ('have', 'VB'), ('another', 'DT'), ('baby', 'NN'), ('and', 'CC'), ('just', 'RB'), ('dress', 'VB'), ('her', 'PRP$'), ('in', 'IN'), ('grey', 'JJ'), ('no', 'DT'), ('did', 'VBD'), ('you', 'PRP'), ('just', 'RB'), ('say', 'VB'), ('uh', 'UH'), ('?', '.'), ('I', 'PRP'), ('did', 'VBD'), (\"n't\", 'RB'), ('say', 'VB'), ('anything', 'NN'), ('think', 'VBP'), ('I', 'PRP'), ('need', 'VBP'), ('to', 'TO'), ('sleep', 'VB'), ('for', 'IN'), ('three', 'CD'), ('years', 'NNS'), ('first', 'RB'), ('sleep', 'VBP'), ('for', 'IN'), ('three', 'CD'), ('years', 'NNS'), ('?', '.'), ('mm', 'VB'), ('what', 'WP'), ('till', 'IN'), ('she', 'PRP'), (\"'s\", 'VBZ'), ('three', 'CD'), ('years', 'NNS'), ('old', 'JJ'), ('?', '.'), ('four', 'CD'), ('years', 'NNS'), ('old', 'JJ'), ('?', '.'), ('do', 'VBP'), (\"n't\", 'RB'), ('think', 'VB'), ('you', 'PRP'), (\"'re\", 'VBP'), ('gon', 'VBG'), ('na', 'TO'), ('get', 'VB'), ('any', 'DT'), ('sleep', 'JJ'), ('but', 'CC'), ('we', 'PRP'), (\"'ve\", 'VBP'), ('got', 'VBN'), ('to', 'TO'), ('learn', 'VB'), ('to', 'TO'), ('survive', 'VB'), ('without', 'IN'), ('sleep', 'RB'), ('now', 'RB'), ('yeah', 'VBZ'), ('that', 'IN'), (\"'d\", 'MD'), ('be', 'VB'), ('great', 'JJ'), ('or', 'CC'), ('we', 'PRP'), ('can', 'MD'), ('find', 'VB'), ('a', 'DT'), ('cocaine', 'NN'), ('dealer', 'NN'), ('ah', 'NN'), ('I', 'PRP'), ('mm', 'VBP'), ('camomile', 'JJ'), ('yeah', 'NN'), ('I', 'PRP'), (\"'ve\", 'VBP'), ('got', 'VBD'), ('a', 'DT'), ('bottle', 'NN'), ('of', 'IN'), ('whisky', 'NN'), ('over', 'IN'), ('there', 'RB'), ('ah', 'VBZ'), ('that', 'IN'), (\"'ll\", 'MD'), ('do', 'VB'), ('we', 'PRP'), (\"'ll\", 'MD'), ('send', 'VB'), ('that', 'IN'), ('it', 'PRP'), (\"'ll\", 'MD'), ('probably', 'RB'), ('do', 'VB'), ('the', 'DT'), ('trick', 'NN'), ('mm', 'NN'), ('yeah', 'NN'), ('or', 'CC'), ('maybe', 'VB'), ('it', 'PRP'), (\"'s\", 'VBZ'), ('something', 'NN'), ('like', 'IN'), ('that', 'DT'), ('yeah', 'NN'), ('might', 'MD'), ('have', 'VB'), ('a', 'DT'), ('whisky', 'JJ'), ('tonight', 'NN'), ('actually', 'RB'), ('I', 'PRP'), ('thought', 'VBD'), ('got', 'VBD'), ('any', 'DT'), ('mixers', 'NNS'), ('left', 'VBN'), ('?', '.'), ('er', 'JJ'), ('yeah', 'NN'), ('tonic', 'JJ'), ('water', 'NN'), ('tonic', 'JJ'), ('well', 'NN'), ('I', 'PRP'), ('do', 'VBP'), (\"n't\", 'RB'), ('like', 'IN'), ('no', 'DT'), ('I', 'PRP'), ('do', 'VBP'), (\"n't\", 'RB'), ('want', 'VB'), ('gin', 'NN'), ('whisky', 'IN'), ('you', 'PRP'), ('can', 'MD'), ('just', 'RB'), ('have', 'VB'), ('with', 'IN'), ('hot', 'JJ'), ('water', 'NN'), ('it', 'PRP'), ('what', 'WP'), ('is', 'VBZ'), ('that', 'IN'), ('a', 'DT'), ('hot', 'JJ'), ('toddy', 'NN'), ('or', 'CC'), ('something', 'NN'), ('?', '.'), ('hot', 'JJ'), ('toddy', 'NN'), ('?', '.'), ('it', 'PRP'), (\"'s\", 'VBZ'), ('alright', 'JJ'), ('with', 'IN'), ('lemon', 'JJ'), ('and', 'CC'), ('honey', 'NN'), ('or', 'CC'), ('have', 'VBP'), ('a', 'DT'), ('whisky', 'JJ'), ('hot', 'JJ'), ('chocolate', 'NN'), ('yeah', 'NN'), ('yeah', 'RB'), ('been', 'VBN'), ('such', 'PDT'), ('a', 'DT'), ('long', 'JJ'), ('time', 'NN'), ('since', 'IN'), ('I', 'PRP'), (\"'ve\", 'VBP'), ('was', 'VBD'), ('that', 'IN'), ('whisky', 'NN'), ('or', 'CC'), ('rum', 'VB'), ('?', '.'), ('hot', 'JJ'), ('chocolate', 'NN'), ('?', '.'), ('yeah', 'UH'), ('you', 'PRP'), ('know', 'VBP'), ('my', 'PRP$'), ('bullet', 'NN'), ('blender', 'NN'), ('?', '.'), ('mm', 'NN'), ('that', 'IN'), ('I', 'PRP'), ('keep', 'VBP'), ('talking', 'VBG'), ('about', 'IN'), ('yeah', 'NN'), ('you', 'PRP'), ('realise', 'VBP'), ('you', 'PRP'), (\"'ve\", 'VBP'), ('got', 'VBD'), ('a', 'DT'), ('long', 'JJ'), ('time', 'NN'), ('before', 'IN'), ('your', 'PRP$'), ('birthday', 'NN'), ('?', '.'), ('it', 'PRP'), (\"'s\", 'VBZ'), ('Christmas', 'NNP'), ('first', 'RB'), ('ca', 'MD'), (\"n't\", 'RB'), ('I', 'PRP'), ('get', 'VB'), ('it', 'PRP'), ('for', 'IN'), ('Christmas', 'NNP'), ('?', '.'), ('yeah', 'NN'), ('I', 'PRP'), ('found', 'VBD'), ('it', 'PRP'), ('on', 'IN'), ('Taobao', 'NNP'), ('but', 'CC'), ('er', 'RB'), ('and', 'CC'), ('it', 'PRP'), (\"'s\", 'VBZ'), ('like', 'IN'), ('twenty', 'NN'), ('quid', 'NN'), ('twenty', 'NN'), ('quid', 'NN'), ('?', '.'), ('well', 'IN'), ('it', 'PRP'), (\"'s\", 'VBZ'), ('not', 'RB'), ('gon', 'VB'), ('na', 'TO'), ('be', 'VB'), ('very', 'RB'), ('good', 'JJ'), ('is', 'VBZ'), ('it', 'PRP'), ('?', '.'), ('how', 'WRB'), ('many', 'JJ'), ('blenders', 'NNS'), ('have', 'VBP'), ('we', 'PRP'), ('bought', 'VBN'), ('?', '.'), ('and', 'CC'), ('you', 'PRP'), (\"'ve\", 'VBP'), ('been', 'VBN'), ('disappointed', 'VBN'), ('every', 'DT'), ('time', 'NN'), ('well', 'IN'), ('it', 'PRP'), ('says', 'VBZ'), ('a', 'DT'), ('hundred', 'JJ'), ('and', 'CC'), ('eighty-nine', 'JJ'), ('yeah', 'NN'), ('and', 'CC'), ('you', 'PRP'), ('add', 'VBP'), ('on', 'IN'), ('the', 'DT'), ('accessories', 'NNS'), ('and', 'CC'), ('then', 'RB'), ('it', 'PRP'), ('ends', 'VBZ'), ('up', 'RP'), ('yeah', 'RB'), ('loads', 'VBZ'), ('more', 'JJR'), ('money', 'NN'), ('?', '.'), ('well', 'RB'), ('I', 'PRP'), ('think', 'VBP'), ('it', 'PRP'), (\"'s\", 'VBZ'), ('probably', 'RB'), ('something', 'NN'), ('like', 'IN'), ('that', 'DT'), ('I', 'PRP'), ('need', 'VBP'), ('to', 'TO'), ('so', 'VB'), ('you', 'PRP'), ('get', 'VB'), ('the', 'DT'), ('plug', 'NN'), ('yeah', 'NN'), ('yeah', 'NN'), ('are', 'VBP'), ('you', 'PRP'), ('trying', 'VBG'), ('to', 'TO'), ('sell', 'VB'), ('it', 'PRP'), ('to', 'TO'), ('me', 'PRP'), ('?', '.'), ('they', 'PRP'), ('give', 'VBP'), ('you', 'PRP'), ('different', 'JJ'), ('coloured', 'VBD'), ('rims', 'NNS'), ('for', 'IN'), ('the', 'DT'), ('glasses', 'NNS'), ('they', 'PRP'), ('each', 'DT'), ('one', 'CD'), ('you', 'PRP'), ('just', 'RB'), ('plug', 'VB'), ('it', 'PRP'), ('into', 'IN'), ('the', 'DT'), ('yeah', 'NN'), ('what', 'WP'), (\"'s\", 'VBZ'), ('this', 'DT'), ('coloured', 'JJ'), ('rim', 'JJ'), ('thing', 'NN'), ('?', '.'), ('you', 'PRP'), (\"'ve\", 'VBP'), ('got', 'VBN'), ('a', 'DT'), ('coloured', 'JJ'), ('rim', 'NN'), ('with', 'IN'), ('a', 'DT'), ('coloured', 'JJ'), ('handle', 'NN'), ('so', 'IN'), ('you', 'PRP'), (\"'d\", 'MD'), ('know', 'VB'), ('whose', 'WP$'), ('is', 'VBZ'), ('whose', 'WP$'), ('hang', 'NN'), ('on', 'IN'), ('so', 'IN'), ('what', 'WP'), ('what', 'WP'), (\"'s\", 'VBZ'), ('the', 'DT'), ('difference', 'NN'), ('between', 'IN'), ('any', 'DT'), ('other', 'JJ'), ('cup', 'NN'), ('in', 'IN'), ('the', 'DT'), ('world', 'NN'), ('that', 'WDT'), (\"'s\", 'VBZ'), ('a', 'DT'), ('different', 'JJ'), ('colour', 'NN'), ('?', '.'), ('it', 'PRP'), ('does', 'VBZ'), (\"n't\", 'RB'), ('plug', 'VB'), ('into', 'IN'), ('the', 'DT'), ('blender', 'NN'), ('?', '.'), ('so', 'IN'), ('it', 'PRP'), (\"'s\", 'VBZ'), ('a', 'DT'), ('blender', 'NN'), ('with', 'IN'), ('four', 'CD'), ('different', 'JJ'), ('colour', 'NN'), ('cups', 'NNS'), ('?', '.'), ('basically', 'RB'), ('oh', 'VBZ'), ('more', 'JJR'), ('than', 'IN'), ('that', 'DT'), ('is', 'VBZ'), ('that', 'IN'), ('?', '.'), ('cos', 'VB'), ('it', 'PRP'), (\"'s\", 'VBZ'), ('got', 'VBD'), ('other', 'JJ'), ('bits', 'NNS'), ('too', 'RB'), ('I', 'PRP'), ('I', 'PRP'), ('do', 'VBP'), (\"n't\", 'RB'), ('understand', 'VB'), ('this', 'DT'), ('coloured', 'JJ'), ('cup', 'NN'), ('thing', 'NN'), ('right', 'VBD'), ('the', 'DT'), ('cup', 'NN'), ('fits', 'VBZ'), ('on', 'IN'), ('to', 'TO'), ('the', 'DT'), ('blender', 'NN'), ('and', 'CC'), ('you', 'PRP'), ('make', 'VBP'), ('your', 'PRP$'), ('cocktail', 'NN'), ('yeah', 'NN'), ('then', 'RB'), ('you', 'PRP'), ('take', 'VBP'), ('your', 'PRP$'), ('cup', 'NN'), ('off', 'IN'), ('and', 'CC'), ('you', 'PRP'), ('drink', 'VBP'), ('it', 'PRP'), ('yeah', 'VBZ'), ('you', 'PRP'), ('ca', 'MD'), (\"n't\", 'RB'), ('do', 'VB'), ('that', 'DT'), ('with', 'IN'), ('a', 'DT'), ('normal', 'JJ'), ('cup', 'NN'), ('can', 'MD'), ('you', 'PRP'), ('?', '.'), ('no', 'DT'), ('but', 'CC'), ('what', 'WP'), ('what', 'WP'), (\"'s\", 'VBZ'), ('so', 'RB'), ('special', 'JJ'), ('about', 'IN'), ('the', 'DT'), ('colour', 'NN'), ('?', '.'), ('so', 'RB'), ('that', 'IN'), ('you', 'PRP'), ('know', 'VBP'), ('which', 'WDT'), ('cocktail', 'VBP'), ('you', 'PRP'), (\"'ve\", 'VBP'), ('made', 'VBN'), ('oh', 'RP'), ('so', 'IN'), ('you', 'PRP'), ('make', 'VBP'), ('different', 'JJ'), ('cocktails', 'NNS'), ('in', 'IN'), ('different', 'JJ'), ('cups', 'NNS'), ('?', '.'), ('so', 'RB'), ('that', 'IN'), ('if', 'IN'), ('if', 'IN'), ('you', 'PRP'), (\"'re\", 'VBP'), ('right', 'JJ'), ('you', 'PRP'), ('do', 'VBP'), (\"n't\", 'RB'), ('want', 'VB'), ('to', 'TO'), ('pick', 'VB'), ('up', 'RP'), ('mine', 'NN'), ('and', 'CC'), ('make', 'VB'), ('your', 'PRP$'), ('cocktail', 'NN'), ('in', 'IN'), ('it', 'PRP'), ('okay', 'VBZ'), ('mm', 'JJ'), ('yeah', 'NN'), ('you', 'PRP'), (\"'ve\", 'VBP'), ('got', 'VBN'), ('a', 'DT'), ('choice', 'NN'), ('of', 'IN'), ('whisky', 'NN'), ('and', 'CC'), ('tonic', 'JJ'), ('water', 'NN'), ('well', 'RB'), ('if', 'IN'), ('we', 'PRP'), ('ever', 'RB'), ('have', 'VBP'), ('they', 'PRP'), (\"'re\", 'VBP'), ('calling', 'VBG'), ('them', 'PRP'), ('bullet', 'NN'), ('parties', 'NNS'), ('bullet', 'VBP'), ('party', 'NN'), ('is', 'VBZ'), ('that', 'IN'), ('what', 'WP'), ('they', 'PRP'), (\"'re\", 'VBP'), ('called', 'VBN'), ('?', '.'), ('bullet', 'NN'), ('cocktail', 'NN'), ('party', 'NN'), ('have', 'VBP'), ('you', 'PRP'), ('been', 'VBN'), ('watching', 'VBG'), ('QVC', 'NNP'), ('?', '.'), ('bullet', 'NN'), ('party', 'NN'), ('you', 'PRP'), (\"'re\", 'VBP'), ('making', 'VBG'), ('this', 'DT'), ('up', 'RB'), ('and', 'CC'), ('you', 'PRP'), ('all', 'DT'), ('make', 'VBP'), ('what', 'WP'), ('?', '.'), ('a', 'DT'), ('cocktail', 'NN'), ('each', 'DT'), ('you', 'PRP'), ('have', 'VBP'), ('been', 'VBN'), ('watching', 'VBG'), ('the', 'DT'), ('shopping', 'NN'), ('channel', 'NNS'), ('have', 'VBP'), (\"n't\", 'RB'), ('you', 'PRP'), ('?', '.'), ('oh', 'UH'), ('I', 'PRP'), ('watched', 'VBD'), ('it', 'PRP'), ('one', 'CD'), ('time', 'NN'), ('in', 'IN'), ('yeah', 'NN'), ('?', '.'), ('were', 'VBD'), ('they', 'PRP'), ('all', 'DT'), ('having', 'VBG'), ('bullet', 'NN'), ('parties', 'NNS'), ('?', '.'), ('yeah', 'VBP'), ('that', 'DT'), (\"'s\", 'VBZ'), ('what', 'WP'), ('cocktail', 'NN'), ('is', 'VBZ'), ('a', 'DT'), ('cocktail', 'NN'), ('party', 'NN'), ('but', 'CC'), ('you', 'PRP'), ('drink', 'VBP'), ('it', 'PRP'), ('out', 'IN'), ('of', 'IN'), ('a', 'DT'), ('big', 'JJ'), ('mug', 'NN'), ('instead', 'RB'), ('of', 'IN'), ('a', 'DT'), ('fancy', 'JJ'), ('glass', 'NN'), ('mm', 'NN'), ('she', 'PRP'), (\"'s\", 'VBZ'), ('asleep', 'JJ'), ('she', 'PRP'), (\"'s\", 'VBZ'), ('asleep', 'RB'), ('?', '.'), ('okay', 'RB'), ('well', 'RB'), ('I', 'PRP'), ('heard', 'VBD'), ('the', 'DT'), ('oven', 'JJ'), ('ping', 'NN'), ('as', 'RB'), ('well', 'RB'), ('so', 'RB'), ('yeah', 'VB'), ('what', 'WP'), ('does', 'VBZ'), ('that', 'DT'), ('mean', 'VB'), ('?', '.'), ('means', 'VBZ'), ('the', 'DT'), ('potatoes', 'NNS'), ('are', 'VBP'), ('ready', 'JJ'), ('well', 'RB')]\n"
          ]
        }
      ],
      "source": [
        "\n",
        "# Remove None values from the list of texts\n",
        "texts_tok = [text for text in texts_tok if text is not None]\n",
        "\n",
        "# Tokenize the text into words\n",
        "words = []\n",
        "for text in texts_tok:\n",
        "    if isinstance(text, str):\n",
        "        words.extend(nltk.word_tokenize(text))\n",
        "\n",
        "# Tag each word with its part of speech\n",
        "pos_tags = nltk.pos_tag(words)\n",
        "print(pos_tags)\n",
        "\n"
      ]
    },
    {
      "cell_type": "code",
      "execution_count": null,
      "metadata": {
        "id": "EzeCHhEp9VGk"
      },
      "outputs": [],
      "source": [
        "from nltk.chunk import *\n",
        "from nltk.chunk.util import *\n",
        "from nltk.chunk.regexp import *\n",
        "\n",
        "# Define a regular expression for detecting named entities\n",
        "grammar = r\"\"\"\n",
        "    NP: {<DT|PP\\$>?<JJ>*<NN>}   # chunk determiner/possessive, adjectives and nouns\n",
        "        {<NNP>+}                # chunk consecutive proper nouns\n",
        "\"\"\"\n",
        "\n",
        "# Create a chunk parser using the regular expression\n",
        "chunk_parser = RegexpParser(grammar)\n",
        "\n",
        "# Perform chunking and named entity recognition\n",
        "for text in texts:\n",
        "    # Tokenize the text into words\n",
        "    words = nltk.word_tokenize(text)\n",
        "    \n",
        "    # Tag each word with its part of speech\n",
        "    pos_tags = nltk.pos_tag(words)\n",
        "    \n",
        "    # Perform chunking and named entity recognition\n",
        "    chunks = chunk_parser.parse(pos_tags)\n",
        "    for chunk in chunks:\n",
        "        if isinstance(chunk, Tree) and chunk.label() == 'NP':\n",
        "            print(chunk)\n"
      ]
    },
    {
      "cell_type": "code",
      "execution_count": null,
      "metadata": {
        "id": "Hg_0bzbK9XKE"
      },
      "outputs": [],
      "source": [
        "from nltk import FreqDist\n",
        "\n",
        "# Create a frequency distribution of the words\n",
        "fdist = FreqDist(words)\n",
        "\n",
        "# Print the most common words\n",
        "print(fdist.most_common(10))\n"
      ]
    },
    {
      "cell_type": "code",
      "execution_count": null,
      "metadata": {
        "id": "jLs7TS139Y8v"
      },
      "outputs": [],
      "source": [
        "\n",
        "# Create a collocation finder\n",
        "finder = BigramCollocationFinder.from_words(words)\n",
        "\n",
        "# Filter out collocations that appear less than 3 times\n",
        "finder.apply_freq_filter(3)\n",
        "\n",
        "# Compute the top 10 collocations using the chi-squared measure\n",
        "bigram_measures = BigramAssocMeasures()\n",
        "collocations = finder.nbest(bigram_measures.chi_sq, 10)\n",
        "\n",
        "# Print the top 10 collocations\n",
        "print(collocations)\n"
      ]
    }
  ],
  "metadata": {
    "accelerator": "GPU",
    "colab": {
      "gpuType": "T4",
      "provenance": []
    },
    "gpuClass": "standard",
    "kernelspec": {
      "display_name": "Python 3",
      "name": "python3"
    },
    "language_info": {
      "name": "python"
    },
    "widgets": {
      "application/vnd.jupyter.widget-state+json": {
        "02ba1dc60d9a47f6be59404d12f2b12e": {
          "model_module": "@jupyter-widgets/base",
          "model_module_version": "1.2.0",
          "model_name": "LayoutModel",
          "state": {
            "_model_module": "@jupyter-widgets/base",
            "_model_module_version": "1.2.0",
            "_model_name": "LayoutModel",
            "_view_count": null,
            "_view_module": "@jupyter-widgets/base",
            "_view_module_version": "1.2.0",
            "_view_name": "LayoutView",
            "align_content": null,
            "align_items": null,
            "align_self": null,
            "border": null,
            "bottom": null,
            "display": null,
            "flex": null,
            "flex_flow": null,
            "grid_area": null,
            "grid_auto_columns": null,
            "grid_auto_flow": null,
            "grid_auto_rows": null,
            "grid_column": null,
            "grid_gap": null,
            "grid_row": null,
            "grid_template_areas": null,
            "grid_template_columns": null,
            "grid_template_rows": null,
            "height": null,
            "justify_content": null,
            "justify_items": null,
            "left": null,
            "margin": null,
            "max_height": null,
            "max_width": null,
            "min_height": null,
            "min_width": null,
            "object_fit": null,
            "object_position": null,
            "order": null,
            "overflow": null,
            "overflow_x": null,
            "overflow_y": null,
            "padding": null,
            "right": null,
            "top": null,
            "visibility": null,
            "width": null
          }
        },
        "06618cd7cc4c4c92b7860f40d350047d": {
          "model_module": "@jupyter-widgets/base",
          "model_module_version": "1.2.0",
          "model_name": "LayoutModel",
          "state": {
            "_model_module": "@jupyter-widgets/base",
            "_model_module_version": "1.2.0",
            "_model_name": "LayoutModel",
            "_view_count": null,
            "_view_module": "@jupyter-widgets/base",
            "_view_module_version": "1.2.0",
            "_view_name": "LayoutView",
            "align_content": null,
            "align_items": null,
            "align_self": null,
            "border": null,
            "bottom": null,
            "display": null,
            "flex": null,
            "flex_flow": null,
            "grid_area": null,
            "grid_auto_columns": null,
            "grid_auto_flow": null,
            "grid_auto_rows": null,
            "grid_column": null,
            "grid_gap": null,
            "grid_row": null,
            "grid_template_areas": null,
            "grid_template_columns": null,
            "grid_template_rows": null,
            "height": null,
            "justify_content": null,
            "justify_items": null,
            "left": null,
            "margin": null,
            "max_height": null,
            "max_width": null,
            "min_height": null,
            "min_width": null,
            "object_fit": null,
            "object_position": null,
            "order": null,
            "overflow": null,
            "overflow_x": null,
            "overflow_y": null,
            "padding": null,
            "right": null,
            "top": null,
            "visibility": null,
            "width": null
          }
        },
        "1bdb067dfeeb40bbac90a1fa7b583bc5": {
          "model_module": "@jupyter-widgets/controls",
          "model_module_version": "1.5.0",
          "model_name": "HBoxModel",
          "state": {
            "_dom_classes": [],
            "_model_module": "@jupyter-widgets/controls",
            "_model_module_version": "1.5.0",
            "_model_name": "HBoxModel",
            "_view_count": null,
            "_view_module": "@jupyter-widgets/controls",
            "_view_module_version": "1.5.0",
            "_view_name": "HBoxView",
            "box_style": "",
            "children": [
              "IPY_MODEL_292b7ceef6be47d09ddd48ba08159ca4",
              "IPY_MODEL_f061c776e693483383f08d7e04bf392f",
              "IPY_MODEL_aed7642372cf49ba9e6d79f439e990b4"
            ],
            "layout": "IPY_MODEL_8aa0e352a4a64cdd96c610e959ff70b3"
          }
        },
        "268fd7de32c649f087672ff8374f2325": {
          "model_module": "@jupyter-widgets/controls",
          "model_module_version": "1.5.0",
          "model_name": "HTMLModel",
          "state": {
            "_dom_classes": [],
            "_model_module": "@jupyter-widgets/controls",
            "_model_module_version": "1.5.0",
            "_model_name": "HTMLModel",
            "_view_count": null,
            "_view_module": "@jupyter-widgets/controls",
            "_view_module_version": "1.5.0",
            "_view_name": "HTMLView",
            "description": "",
            "description_tooltip": null,
            "layout": "IPY_MODEL_285abcf4671d479382701b24fa973d72",
            "placeholder": "​",
            "style": "IPY_MODEL_83b2951b4c094f6887f3785012b8c99b",
            "value": "Downloading pytorch_model.bin: 100%"
          }
        },
        "285abcf4671d479382701b24fa973d72": {
          "model_module": "@jupyter-widgets/base",
          "model_module_version": "1.2.0",
          "model_name": "LayoutModel",
          "state": {
            "_model_module": "@jupyter-widgets/base",
            "_model_module_version": "1.2.0",
            "_model_name": "LayoutModel",
            "_view_count": null,
            "_view_module": "@jupyter-widgets/base",
            "_view_module_version": "1.2.0",
            "_view_name": "LayoutView",
            "align_content": null,
            "align_items": null,
            "align_self": null,
            "border": null,
            "bottom": null,
            "display": null,
            "flex": null,
            "flex_flow": null,
            "grid_area": null,
            "grid_auto_columns": null,
            "grid_auto_flow": null,
            "grid_auto_rows": null,
            "grid_column": null,
            "grid_gap": null,
            "grid_row": null,
            "grid_template_areas": null,
            "grid_template_columns": null,
            "grid_template_rows": null,
            "height": null,
            "justify_content": null,
            "justify_items": null,
            "left": null,
            "margin": null,
            "max_height": null,
            "max_width": null,
            "min_height": null,
            "min_width": null,
            "object_fit": null,
            "object_position": null,
            "order": null,
            "overflow": null,
            "overflow_x": null,
            "overflow_y": null,
            "padding": null,
            "right": null,
            "top": null,
            "visibility": null,
            "width": null
          }
        },
        "292b7ceef6be47d09ddd48ba08159ca4": {
          "model_module": "@jupyter-widgets/controls",
          "model_module_version": "1.5.0",
          "model_name": "HTMLModel",
          "state": {
            "_dom_classes": [],
            "_model_module": "@jupyter-widgets/controls",
            "_model_module_version": "1.5.0",
            "_model_name": "HTMLModel",
            "_view_count": null,
            "_view_module": "@jupyter-widgets/controls",
            "_view_module_version": "1.5.0",
            "_view_name": "HTMLView",
            "description": "",
            "description_tooltip": null,
            "layout": "IPY_MODEL_436c4f1d00ec4174926cadd31ff0abf2",
            "placeholder": "​",
            "style": "IPY_MODEL_32d1b3a274514c9fbeb1b4364c98283f",
            "value": "Downloading (…)neration_config.json: 100%"
          }
        },
        "2e9d9acd581e4f1c8aca379f5e73f9a9": {
          "model_module": "@jupyter-widgets/base",
          "model_module_version": "1.2.0",
          "model_name": "LayoutModel",
          "state": {
            "_model_module": "@jupyter-widgets/base",
            "_model_module_version": "1.2.0",
            "_model_name": "LayoutModel",
            "_view_count": null,
            "_view_module": "@jupyter-widgets/base",
            "_view_module_version": "1.2.0",
            "_view_name": "LayoutView",
            "align_content": null,
            "align_items": null,
            "align_self": null,
            "border": null,
            "bottom": null,
            "display": null,
            "flex": null,
            "flex_flow": null,
            "grid_area": null,
            "grid_auto_columns": null,
            "grid_auto_flow": null,
            "grid_auto_rows": null,
            "grid_column": null,
            "grid_gap": null,
            "grid_row": null,
            "grid_template_areas": null,
            "grid_template_columns": null,
            "grid_template_rows": null,
            "height": null,
            "justify_content": null,
            "justify_items": null,
            "left": null,
            "margin": null,
            "max_height": null,
            "max_width": null,
            "min_height": null,
            "min_width": null,
            "object_fit": null,
            "object_position": null,
            "order": null,
            "overflow": null,
            "overflow_x": null,
            "overflow_y": null,
            "padding": null,
            "right": null,
            "top": null,
            "visibility": null,
            "width": null
          }
        },
        "32d1b3a274514c9fbeb1b4364c98283f": {
          "model_module": "@jupyter-widgets/controls",
          "model_module_version": "1.5.0",
          "model_name": "DescriptionStyleModel",
          "state": {
            "_model_module": "@jupyter-widgets/controls",
            "_model_module_version": "1.5.0",
            "_model_name": "DescriptionStyleModel",
            "_view_count": null,
            "_view_module": "@jupyter-widgets/base",
            "_view_module_version": "1.2.0",
            "_view_name": "StyleView",
            "description_width": ""
          }
        },
        "346090d5d9cd4faea84bcbc1e1f819ca": {
          "model_module": "@jupyter-widgets/controls",
          "model_module_version": "1.5.0",
          "model_name": "DescriptionStyleModel",
          "state": {
            "_model_module": "@jupyter-widgets/controls",
            "_model_module_version": "1.5.0",
            "_model_name": "DescriptionStyleModel",
            "_view_count": null,
            "_view_module": "@jupyter-widgets/base",
            "_view_module_version": "1.2.0",
            "_view_name": "StyleView",
            "description_width": ""
          }
        },
        "37b5d80f0e5e49d888e0a6387707aa1a": {
          "model_module": "@jupyter-widgets/controls",
          "model_module_version": "1.5.0",
          "model_name": "DescriptionStyleModel",
          "state": {
            "_model_module": "@jupyter-widgets/controls",
            "_model_module_version": "1.5.0",
            "_model_name": "DescriptionStyleModel",
            "_view_count": null,
            "_view_module": "@jupyter-widgets/base",
            "_view_module_version": "1.2.0",
            "_view_name": "StyleView",
            "description_width": ""
          }
        },
        "3803bf9efc5844efa0ef825f27535df8": {
          "model_module": "@jupyter-widgets/controls",
          "model_module_version": "1.5.0",
          "model_name": "HTMLModel",
          "state": {
            "_dom_classes": [],
            "_model_module": "@jupyter-widgets/controls",
            "_model_module_version": "1.5.0",
            "_model_name": "HTMLModel",
            "_view_count": null,
            "_view_module": "@jupyter-widgets/controls",
            "_view_module_version": "1.5.0",
            "_view_name": "HTMLView",
            "description": "",
            "description_tooltip": null,
            "layout": "IPY_MODEL_efcb2c55aa78462b95c8a10909b48b0a",
            "placeholder": "​",
            "style": "IPY_MODEL_c23e0d5c7be84293b1c018ee5c7b5cd1",
            "value": " 892M/892M [00:12&lt;00:00, 86.6MB/s]"
          }
        },
        "432f620884c342468c9ee4f5a1818159": {
          "model_module": "@jupyter-widgets/controls",
          "model_module_version": "1.5.0",
          "model_name": "DescriptionStyleModel",
          "state": {
            "_model_module": "@jupyter-widgets/controls",
            "_model_module_version": "1.5.0",
            "_model_name": "DescriptionStyleModel",
            "_view_count": null,
            "_view_module": "@jupyter-widgets/base",
            "_view_module_version": "1.2.0",
            "_view_name": "StyleView",
            "description_width": ""
          }
        },
        "436c4f1d00ec4174926cadd31ff0abf2": {
          "model_module": "@jupyter-widgets/base",
          "model_module_version": "1.2.0",
          "model_name": "LayoutModel",
          "state": {
            "_model_module": "@jupyter-widgets/base",
            "_model_module_version": "1.2.0",
            "_model_name": "LayoutModel",
            "_view_count": null,
            "_view_module": "@jupyter-widgets/base",
            "_view_module_version": "1.2.0",
            "_view_name": "LayoutView",
            "align_content": null,
            "align_items": null,
            "align_self": null,
            "border": null,
            "bottom": null,
            "display": null,
            "flex": null,
            "flex_flow": null,
            "grid_area": null,
            "grid_auto_columns": null,
            "grid_auto_flow": null,
            "grid_auto_rows": null,
            "grid_column": null,
            "grid_gap": null,
            "grid_row": null,
            "grid_template_areas": null,
            "grid_template_columns": null,
            "grid_template_rows": null,
            "height": null,
            "justify_content": null,
            "justify_items": null,
            "left": null,
            "margin": null,
            "max_height": null,
            "max_width": null,
            "min_height": null,
            "min_width": null,
            "object_fit": null,
            "object_position": null,
            "order": null,
            "overflow": null,
            "overflow_x": null,
            "overflow_y": null,
            "padding": null,
            "right": null,
            "top": null,
            "visibility": null,
            "width": null
          }
        },
        "4892589e2a8349729babbaf4a5478a9b": {
          "model_module": "@jupyter-widgets/controls",
          "model_module_version": "1.5.0",
          "model_name": "FloatProgressModel",
          "state": {
            "_dom_classes": [],
            "_model_module": "@jupyter-widgets/controls",
            "_model_module_version": "1.5.0",
            "_model_name": "FloatProgressModel",
            "_view_count": null,
            "_view_module": "@jupyter-widgets/controls",
            "_view_module_version": "1.5.0",
            "_view_name": "ProgressView",
            "bar_style": "success",
            "description": "",
            "description_tooltip": null,
            "layout": "IPY_MODEL_2e9d9acd581e4f1c8aca379f5e73f9a9",
            "max": 1208,
            "min": 0,
            "orientation": "horizontal",
            "style": "IPY_MODEL_e51298c0170549a196e2015a93298d48",
            "value": 1208
          }
        },
        "49e3616558b9432d98c883a6c999d728": {
          "model_module": "@jupyter-widgets/controls",
          "model_module_version": "1.5.0",
          "model_name": "HTMLModel",
          "state": {
            "_dom_classes": [],
            "_model_module": "@jupyter-widgets/controls",
            "_model_module_version": "1.5.0",
            "_model_name": "HTMLModel",
            "_view_count": null,
            "_view_module": "@jupyter-widgets/controls",
            "_view_module_version": "1.5.0",
            "_view_name": "HTMLView",
            "description": "",
            "description_tooltip": null,
            "layout": "IPY_MODEL_ac9000d015bc42e2a4c450163ed75716",
            "placeholder": "​",
            "style": "IPY_MODEL_dc2525023f944e8fbf67e6725ca7c8bc",
            "value": "Downloading (…)ve/main/spiece.model: 100%"
          }
        },
        "4ba79848e06442ebbf0eb13cb4feb770": {
          "model_module": "@jupyter-widgets/controls",
          "model_module_version": "1.5.0",
          "model_name": "FloatProgressModel",
          "state": {
            "_dom_classes": [],
            "_model_module": "@jupyter-widgets/controls",
            "_model_module_version": "1.5.0",
            "_model_name": "FloatProgressModel",
            "_view_count": null,
            "_view_module": "@jupyter-widgets/controls",
            "_view_module_version": "1.5.0",
            "_view_name": "ProgressView",
            "bar_style": "success",
            "description": "",
            "description_tooltip": null,
            "layout": "IPY_MODEL_e8490faac6914b06897a0a17203d2bb8",
            "max": 791656,
            "min": 0,
            "orientation": "horizontal",
            "style": "IPY_MODEL_d4897c99fe57468f9fa9cf7162589939",
            "value": 791656
          }
        },
        "553469f3339d429595153d1fbd554e03": {
          "model_module": "@jupyter-widgets/base",
          "model_module_version": "1.2.0",
          "model_name": "LayoutModel",
          "state": {
            "_model_module": "@jupyter-widgets/base",
            "_model_module_version": "1.2.0",
            "_model_name": "LayoutModel",
            "_view_count": null,
            "_view_module": "@jupyter-widgets/base",
            "_view_module_version": "1.2.0",
            "_view_name": "LayoutView",
            "align_content": null,
            "align_items": null,
            "align_self": null,
            "border": null,
            "bottom": null,
            "display": null,
            "flex": null,
            "flex_flow": null,
            "grid_area": null,
            "grid_auto_columns": null,
            "grid_auto_flow": null,
            "grid_auto_rows": null,
            "grid_column": null,
            "grid_gap": null,
            "grid_row": null,
            "grid_template_areas": null,
            "grid_template_columns": null,
            "grid_template_rows": null,
            "height": null,
            "justify_content": null,
            "justify_items": null,
            "left": null,
            "margin": null,
            "max_height": null,
            "max_width": null,
            "min_height": null,
            "min_width": null,
            "object_fit": null,
            "object_position": null,
            "order": null,
            "overflow": null,
            "overflow_x": null,
            "overflow_y": null,
            "padding": null,
            "right": null,
            "top": null,
            "visibility": null,
            "width": null
          }
        },
        "5690cbda66454c2eb191e5a9151b0bf9": {
          "model_module": "@jupyter-widgets/controls",
          "model_module_version": "1.5.0",
          "model_name": "HTMLModel",
          "state": {
            "_dom_classes": [],
            "_model_module": "@jupyter-widgets/controls",
            "_model_module_version": "1.5.0",
            "_model_name": "HTMLModel",
            "_view_count": null,
            "_view_module": "@jupyter-widgets/controls",
            "_view_module_version": "1.5.0",
            "_view_name": "HTMLView",
            "description": "",
            "description_tooltip": null,
            "layout": "IPY_MODEL_06618cd7cc4c4c92b7860f40d350047d",
            "placeholder": "​",
            "style": "IPY_MODEL_c2b82df842624fab8189e85bb056b468",
            "value": "Downloading (…)lve/main/config.json: 100%"
          }
        },
        "6211ac1ebebd4bfe803403f7e8f72b1c": {
          "model_module": "@jupyter-widgets/controls",
          "model_module_version": "1.5.0",
          "model_name": "HTMLModel",
          "state": {
            "_dom_classes": [],
            "_model_module": "@jupyter-widgets/controls",
            "_model_module_version": "1.5.0",
            "_model_name": "HTMLModel",
            "_view_count": null,
            "_view_module": "@jupyter-widgets/controls",
            "_view_module_version": "1.5.0",
            "_view_name": "HTMLView",
            "description": "",
            "description_tooltip": null,
            "layout": "IPY_MODEL_aa05dbd617ab42b395338225eae0b59c",
            "placeholder": "​",
            "style": "IPY_MODEL_432f620884c342468c9ee4f5a1818159",
            "value": " 1.21k/1.21k [00:00&lt;00:00, 28.6kB/s]"
          }
        },
        "695798606c5a4e3ea034d600c5392a8f": {
          "model_module": "@jupyter-widgets/base",
          "model_module_version": "1.2.0",
          "model_name": "LayoutModel",
          "state": {
            "_model_module": "@jupyter-widgets/base",
            "_model_module_version": "1.2.0",
            "_model_name": "LayoutModel",
            "_view_count": null,
            "_view_module": "@jupyter-widgets/base",
            "_view_module_version": "1.2.0",
            "_view_name": "LayoutView",
            "align_content": null,
            "align_items": null,
            "align_self": null,
            "border": null,
            "bottom": null,
            "display": null,
            "flex": null,
            "flex_flow": null,
            "grid_area": null,
            "grid_auto_columns": null,
            "grid_auto_flow": null,
            "grid_auto_rows": null,
            "grid_column": null,
            "grid_gap": null,
            "grid_row": null,
            "grid_template_areas": null,
            "grid_template_columns": null,
            "grid_template_rows": null,
            "height": null,
            "justify_content": null,
            "justify_items": null,
            "left": null,
            "margin": null,
            "max_height": null,
            "max_width": null,
            "min_height": null,
            "min_width": null,
            "object_fit": null,
            "object_position": null,
            "order": null,
            "overflow": null,
            "overflow_x": null,
            "overflow_y": null,
            "padding": null,
            "right": null,
            "top": null,
            "visibility": null,
            "width": null
          }
        },
        "7c98c391859a45bc98664a84ad7c813d": {
          "model_module": "@jupyter-widgets/controls",
          "model_module_version": "1.5.0",
          "model_name": "HBoxModel",
          "state": {
            "_dom_classes": [],
            "_model_module": "@jupyter-widgets/controls",
            "_model_module_version": "1.5.0",
            "_model_name": "HBoxModel",
            "_view_count": null,
            "_view_module": "@jupyter-widgets/controls",
            "_view_module_version": "1.5.0",
            "_view_name": "HBoxView",
            "box_style": "",
            "children": [
              "IPY_MODEL_49e3616558b9432d98c883a6c999d728",
              "IPY_MODEL_4ba79848e06442ebbf0eb13cb4feb770",
              "IPY_MODEL_bdd7a5b067b1493ea7a36cd5bee3f888"
            ],
            "layout": "IPY_MODEL_553469f3339d429595153d1fbd554e03"
          }
        },
        "83b2951b4c094f6887f3785012b8c99b": {
          "model_module": "@jupyter-widgets/controls",
          "model_module_version": "1.5.0",
          "model_name": "DescriptionStyleModel",
          "state": {
            "_model_module": "@jupyter-widgets/controls",
            "_model_module_version": "1.5.0",
            "_model_name": "DescriptionStyleModel",
            "_view_count": null,
            "_view_module": "@jupyter-widgets/base",
            "_view_module_version": "1.2.0",
            "_view_name": "StyleView",
            "description_width": ""
          }
        },
        "8aa0e352a4a64cdd96c610e959ff70b3": {
          "model_module": "@jupyter-widgets/base",
          "model_module_version": "1.2.0",
          "model_name": "LayoutModel",
          "state": {
            "_model_module": "@jupyter-widgets/base",
            "_model_module_version": "1.2.0",
            "_model_name": "LayoutModel",
            "_view_count": null,
            "_view_module": "@jupyter-widgets/base",
            "_view_module_version": "1.2.0",
            "_view_name": "LayoutView",
            "align_content": null,
            "align_items": null,
            "align_self": null,
            "border": null,
            "bottom": null,
            "display": null,
            "flex": null,
            "flex_flow": null,
            "grid_area": null,
            "grid_auto_columns": null,
            "grid_auto_flow": null,
            "grid_auto_rows": null,
            "grid_column": null,
            "grid_gap": null,
            "grid_row": null,
            "grid_template_areas": null,
            "grid_template_columns": null,
            "grid_template_rows": null,
            "height": null,
            "justify_content": null,
            "justify_items": null,
            "left": null,
            "margin": null,
            "max_height": null,
            "max_width": null,
            "min_height": null,
            "min_width": null,
            "object_fit": null,
            "object_position": null,
            "order": null,
            "overflow": null,
            "overflow_x": null,
            "overflow_y": null,
            "padding": null,
            "right": null,
            "top": null,
            "visibility": null,
            "width": null
          }
        },
        "8b5a15d0d16144a092ddb954390c4965": {
          "model_module": "@jupyter-widgets/base",
          "model_module_version": "1.2.0",
          "model_name": "LayoutModel",
          "state": {
            "_model_module": "@jupyter-widgets/base",
            "_model_module_version": "1.2.0",
            "_model_name": "LayoutModel",
            "_view_count": null,
            "_view_module": "@jupyter-widgets/base",
            "_view_module_version": "1.2.0",
            "_view_name": "LayoutView",
            "align_content": null,
            "align_items": null,
            "align_self": null,
            "border": null,
            "bottom": null,
            "display": null,
            "flex": null,
            "flex_flow": null,
            "grid_area": null,
            "grid_auto_columns": null,
            "grid_auto_flow": null,
            "grid_auto_rows": null,
            "grid_column": null,
            "grid_gap": null,
            "grid_row": null,
            "grid_template_areas": null,
            "grid_template_columns": null,
            "grid_template_rows": null,
            "height": null,
            "justify_content": null,
            "justify_items": null,
            "left": null,
            "margin": null,
            "max_height": null,
            "max_width": null,
            "min_height": null,
            "min_width": null,
            "object_fit": null,
            "object_position": null,
            "order": null,
            "overflow": null,
            "overflow_x": null,
            "overflow_y": null,
            "padding": null,
            "right": null,
            "top": null,
            "visibility": null,
            "width": null
          }
        },
        "9a2b63d65b5e4e0f9d3e3ce06a1f8b9a": {
          "model_module": "@jupyter-widgets/base",
          "model_module_version": "1.2.0",
          "model_name": "LayoutModel",
          "state": {
            "_model_module": "@jupyter-widgets/base",
            "_model_module_version": "1.2.0",
            "_model_name": "LayoutModel",
            "_view_count": null,
            "_view_module": "@jupyter-widgets/base",
            "_view_module_version": "1.2.0",
            "_view_name": "LayoutView",
            "align_content": null,
            "align_items": null,
            "align_self": null,
            "border": null,
            "bottom": null,
            "display": null,
            "flex": null,
            "flex_flow": null,
            "grid_area": null,
            "grid_auto_columns": null,
            "grid_auto_flow": null,
            "grid_auto_rows": null,
            "grid_column": null,
            "grid_gap": null,
            "grid_row": null,
            "grid_template_areas": null,
            "grid_template_columns": null,
            "grid_template_rows": null,
            "height": null,
            "justify_content": null,
            "justify_items": null,
            "left": null,
            "margin": null,
            "max_height": null,
            "max_width": null,
            "min_height": null,
            "min_width": null,
            "object_fit": null,
            "object_position": null,
            "order": null,
            "overflow": null,
            "overflow_x": null,
            "overflow_y": null,
            "padding": null,
            "right": null,
            "top": null,
            "visibility": null,
            "width": null
          }
        },
        "a0f5fdca2c334b09b143c836ef9a5851": {
          "model_module": "@jupyter-widgets/controls",
          "model_module_version": "1.5.0",
          "model_name": "ProgressStyleModel",
          "state": {
            "_model_module": "@jupyter-widgets/controls",
            "_model_module_version": "1.5.0",
            "_model_name": "ProgressStyleModel",
            "_view_count": null,
            "_view_module": "@jupyter-widgets/base",
            "_view_module_version": "1.2.0",
            "_view_name": "StyleView",
            "bar_color": null,
            "description_width": ""
          }
        },
        "aa05dbd617ab42b395338225eae0b59c": {
          "model_module": "@jupyter-widgets/base",
          "model_module_version": "1.2.0",
          "model_name": "LayoutModel",
          "state": {
            "_model_module": "@jupyter-widgets/base",
            "_model_module_version": "1.2.0",
            "_model_name": "LayoutModel",
            "_view_count": null,
            "_view_module": "@jupyter-widgets/base",
            "_view_module_version": "1.2.0",
            "_view_name": "LayoutView",
            "align_content": null,
            "align_items": null,
            "align_self": null,
            "border": null,
            "bottom": null,
            "display": null,
            "flex": null,
            "flex_flow": null,
            "grid_area": null,
            "grid_auto_columns": null,
            "grid_auto_flow": null,
            "grid_auto_rows": null,
            "grid_column": null,
            "grid_gap": null,
            "grid_row": null,
            "grid_template_areas": null,
            "grid_template_columns": null,
            "grid_template_rows": null,
            "height": null,
            "justify_content": null,
            "justify_items": null,
            "left": null,
            "margin": null,
            "max_height": null,
            "max_width": null,
            "min_height": null,
            "min_width": null,
            "object_fit": null,
            "object_position": null,
            "order": null,
            "overflow": null,
            "overflow_x": null,
            "overflow_y": null,
            "padding": null,
            "right": null,
            "top": null,
            "visibility": null,
            "width": null
          }
        },
        "ac9000d015bc42e2a4c450163ed75716": {
          "model_module": "@jupyter-widgets/base",
          "model_module_version": "1.2.0",
          "model_name": "LayoutModel",
          "state": {
            "_model_module": "@jupyter-widgets/base",
            "_model_module_version": "1.2.0",
            "_model_name": "LayoutModel",
            "_view_count": null,
            "_view_module": "@jupyter-widgets/base",
            "_view_module_version": "1.2.0",
            "_view_name": "LayoutView",
            "align_content": null,
            "align_items": null,
            "align_self": null,
            "border": null,
            "bottom": null,
            "display": null,
            "flex": null,
            "flex_flow": null,
            "grid_area": null,
            "grid_auto_columns": null,
            "grid_auto_flow": null,
            "grid_auto_rows": null,
            "grid_column": null,
            "grid_gap": null,
            "grid_row": null,
            "grid_template_areas": null,
            "grid_template_columns": null,
            "grid_template_rows": null,
            "height": null,
            "justify_content": null,
            "justify_items": null,
            "left": null,
            "margin": null,
            "max_height": null,
            "max_width": null,
            "min_height": null,
            "min_width": null,
            "object_fit": null,
            "object_position": null,
            "order": null,
            "overflow": null,
            "overflow_x": null,
            "overflow_y": null,
            "padding": null,
            "right": null,
            "top": null,
            "visibility": null,
            "width": null
          }
        },
        "aed7642372cf49ba9e6d79f439e990b4": {
          "model_module": "@jupyter-widgets/controls",
          "model_module_version": "1.5.0",
          "model_name": "HTMLModel",
          "state": {
            "_dom_classes": [],
            "_model_module": "@jupyter-widgets/controls",
            "_model_module_version": "1.5.0",
            "_model_name": "HTMLModel",
            "_view_count": null,
            "_view_module": "@jupyter-widgets/controls",
            "_view_module_version": "1.5.0",
            "_view_name": "HTMLView",
            "description": "",
            "description_tooltip": null,
            "layout": "IPY_MODEL_bdef75fb62874e239afb56369483c360",
            "placeholder": "​",
            "style": "IPY_MODEL_37b5d80f0e5e49d888e0a6387707aa1a",
            "value": " 147/147 [00:00&lt;00:00, 4.58kB/s]"
          }
        },
        "bdd7a5b067b1493ea7a36cd5bee3f888": {
          "model_module": "@jupyter-widgets/controls",
          "model_module_version": "1.5.0",
          "model_name": "HTMLModel",
          "state": {
            "_dom_classes": [],
            "_model_module": "@jupyter-widgets/controls",
            "_model_module_version": "1.5.0",
            "_model_name": "HTMLModel",
            "_view_count": null,
            "_view_module": "@jupyter-widgets/controls",
            "_view_module_version": "1.5.0",
            "_view_name": "HTMLView",
            "description": "",
            "description_tooltip": null,
            "layout": "IPY_MODEL_695798606c5a4e3ea034d600c5392a8f",
            "placeholder": "​",
            "style": "IPY_MODEL_346090d5d9cd4faea84bcbc1e1f819ca",
            "value": " 792k/792k [00:00&lt;00:00, 10.0MB/s]"
          }
        },
        "bdef75fb62874e239afb56369483c360": {
          "model_module": "@jupyter-widgets/base",
          "model_module_version": "1.2.0",
          "model_name": "LayoutModel",
          "state": {
            "_model_module": "@jupyter-widgets/base",
            "_model_module_version": "1.2.0",
            "_model_name": "LayoutModel",
            "_view_count": null,
            "_view_module": "@jupyter-widgets/base",
            "_view_module_version": "1.2.0",
            "_view_name": "LayoutView",
            "align_content": null,
            "align_items": null,
            "align_self": null,
            "border": null,
            "bottom": null,
            "display": null,
            "flex": null,
            "flex_flow": null,
            "grid_area": null,
            "grid_auto_columns": null,
            "grid_auto_flow": null,
            "grid_auto_rows": null,
            "grid_column": null,
            "grid_gap": null,
            "grid_row": null,
            "grid_template_areas": null,
            "grid_template_columns": null,
            "grid_template_rows": null,
            "height": null,
            "justify_content": null,
            "justify_items": null,
            "left": null,
            "margin": null,
            "max_height": null,
            "max_width": null,
            "min_height": null,
            "min_width": null,
            "object_fit": null,
            "object_position": null,
            "order": null,
            "overflow": null,
            "overflow_x": null,
            "overflow_y": null,
            "padding": null,
            "right": null,
            "top": null,
            "visibility": null,
            "width": null
          }
        },
        "c23e0d5c7be84293b1c018ee5c7b5cd1": {
          "model_module": "@jupyter-widgets/controls",
          "model_module_version": "1.5.0",
          "model_name": "DescriptionStyleModel",
          "state": {
            "_model_module": "@jupyter-widgets/controls",
            "_model_module_version": "1.5.0",
            "_model_name": "DescriptionStyleModel",
            "_view_count": null,
            "_view_module": "@jupyter-widgets/base",
            "_view_module_version": "1.2.0",
            "_view_name": "StyleView",
            "description_width": ""
          }
        },
        "c2b82df842624fab8189e85bb056b468": {
          "model_module": "@jupyter-widgets/controls",
          "model_module_version": "1.5.0",
          "model_name": "DescriptionStyleModel",
          "state": {
            "_model_module": "@jupyter-widgets/controls",
            "_model_module_version": "1.5.0",
            "_model_name": "DescriptionStyleModel",
            "_view_count": null,
            "_view_module": "@jupyter-widgets/base",
            "_view_module_version": "1.2.0",
            "_view_name": "StyleView",
            "description_width": ""
          }
        },
        "d4897c99fe57468f9fa9cf7162589939": {
          "model_module": "@jupyter-widgets/controls",
          "model_module_version": "1.5.0",
          "model_name": "ProgressStyleModel",
          "state": {
            "_model_module": "@jupyter-widgets/controls",
            "_model_module_version": "1.5.0",
            "_model_name": "ProgressStyleModel",
            "_view_count": null,
            "_view_module": "@jupyter-widgets/base",
            "_view_module_version": "1.2.0",
            "_view_name": "StyleView",
            "bar_color": null,
            "description_width": ""
          }
        },
        "d784ceff69df4798b26606ff21f89732": {
          "model_module": "@jupyter-widgets/base",
          "model_module_version": "1.2.0",
          "model_name": "LayoutModel",
          "state": {
            "_model_module": "@jupyter-widgets/base",
            "_model_module_version": "1.2.0",
            "_model_name": "LayoutModel",
            "_view_count": null,
            "_view_module": "@jupyter-widgets/base",
            "_view_module_version": "1.2.0",
            "_view_name": "LayoutView",
            "align_content": null,
            "align_items": null,
            "align_self": null,
            "border": null,
            "bottom": null,
            "display": null,
            "flex": null,
            "flex_flow": null,
            "grid_area": null,
            "grid_auto_columns": null,
            "grid_auto_flow": null,
            "grid_auto_rows": null,
            "grid_column": null,
            "grid_gap": null,
            "grid_row": null,
            "grid_template_areas": null,
            "grid_template_columns": null,
            "grid_template_rows": null,
            "height": null,
            "justify_content": null,
            "justify_items": null,
            "left": null,
            "margin": null,
            "max_height": null,
            "max_width": null,
            "min_height": null,
            "min_width": null,
            "object_fit": null,
            "object_position": null,
            "order": null,
            "overflow": null,
            "overflow_x": null,
            "overflow_y": null,
            "padding": null,
            "right": null,
            "top": null,
            "visibility": null,
            "width": null
          }
        },
        "da7eebfe1bbf4ec4a447ef415f3220e7": {
          "model_module": "@jupyter-widgets/controls",
          "model_module_version": "1.5.0",
          "model_name": "ProgressStyleModel",
          "state": {
            "_model_module": "@jupyter-widgets/controls",
            "_model_module_version": "1.5.0",
            "_model_name": "ProgressStyleModel",
            "_view_count": null,
            "_view_module": "@jupyter-widgets/base",
            "_view_module_version": "1.2.0",
            "_view_name": "StyleView",
            "bar_color": null,
            "description_width": ""
          }
        },
        "dc2525023f944e8fbf67e6725ca7c8bc": {
          "model_module": "@jupyter-widgets/controls",
          "model_module_version": "1.5.0",
          "model_name": "DescriptionStyleModel",
          "state": {
            "_model_module": "@jupyter-widgets/controls",
            "_model_module_version": "1.5.0",
            "_model_name": "DescriptionStyleModel",
            "_view_count": null,
            "_view_module": "@jupyter-widgets/base",
            "_view_module_version": "1.2.0",
            "_view_name": "StyleView",
            "description_width": ""
          }
        },
        "e51298c0170549a196e2015a93298d48": {
          "model_module": "@jupyter-widgets/controls",
          "model_module_version": "1.5.0",
          "model_name": "ProgressStyleModel",
          "state": {
            "_model_module": "@jupyter-widgets/controls",
            "_model_module_version": "1.5.0",
            "_model_name": "ProgressStyleModel",
            "_view_count": null,
            "_view_module": "@jupyter-widgets/base",
            "_view_module_version": "1.2.0",
            "_view_name": "StyleView",
            "bar_color": null,
            "description_width": ""
          }
        },
        "e6f0e95b1add46a4ae4af94968526fea": {
          "model_module": "@jupyter-widgets/controls",
          "model_module_version": "1.5.0",
          "model_name": "HBoxModel",
          "state": {
            "_dom_classes": [],
            "_model_module": "@jupyter-widgets/controls",
            "_model_module_version": "1.5.0",
            "_model_name": "HBoxModel",
            "_view_count": null,
            "_view_module": "@jupyter-widgets/controls",
            "_view_module_version": "1.5.0",
            "_view_name": "HBoxView",
            "box_style": "",
            "children": [
              "IPY_MODEL_268fd7de32c649f087672ff8374f2325",
              "IPY_MODEL_ead5be9fa8764aba89af596b79b4db62",
              "IPY_MODEL_3803bf9efc5844efa0ef825f27535df8"
            ],
            "layout": "IPY_MODEL_9a2b63d65b5e4e0f9d3e3ce06a1f8b9a"
          }
        },
        "e8490faac6914b06897a0a17203d2bb8": {
          "model_module": "@jupyter-widgets/base",
          "model_module_version": "1.2.0",
          "model_name": "LayoutModel",
          "state": {
            "_model_module": "@jupyter-widgets/base",
            "_model_module_version": "1.2.0",
            "_model_name": "LayoutModel",
            "_view_count": null,
            "_view_module": "@jupyter-widgets/base",
            "_view_module_version": "1.2.0",
            "_view_name": "LayoutView",
            "align_content": null,
            "align_items": null,
            "align_self": null,
            "border": null,
            "bottom": null,
            "display": null,
            "flex": null,
            "flex_flow": null,
            "grid_area": null,
            "grid_auto_columns": null,
            "grid_auto_flow": null,
            "grid_auto_rows": null,
            "grid_column": null,
            "grid_gap": null,
            "grid_row": null,
            "grid_template_areas": null,
            "grid_template_columns": null,
            "grid_template_rows": null,
            "height": null,
            "justify_content": null,
            "justify_items": null,
            "left": null,
            "margin": null,
            "max_height": null,
            "max_width": null,
            "min_height": null,
            "min_width": null,
            "object_fit": null,
            "object_position": null,
            "order": null,
            "overflow": null,
            "overflow_x": null,
            "overflow_y": null,
            "padding": null,
            "right": null,
            "top": null,
            "visibility": null,
            "width": null
          }
        },
        "ead5be9fa8764aba89af596b79b4db62": {
          "model_module": "@jupyter-widgets/controls",
          "model_module_version": "1.5.0",
          "model_name": "FloatProgressModel",
          "state": {
            "_dom_classes": [],
            "_model_module": "@jupyter-widgets/controls",
            "_model_module_version": "1.5.0",
            "_model_name": "FloatProgressModel",
            "_view_count": null,
            "_view_module": "@jupyter-widgets/controls",
            "_view_module_version": "1.5.0",
            "_view_name": "ProgressView",
            "bar_style": "success",
            "description": "",
            "description_tooltip": null,
            "layout": "IPY_MODEL_8b5a15d0d16144a092ddb954390c4965",
            "max": 891691430,
            "min": 0,
            "orientation": "horizontal",
            "style": "IPY_MODEL_da7eebfe1bbf4ec4a447ef415f3220e7",
            "value": 891691430
          }
        },
        "efcb2c55aa78462b95c8a10909b48b0a": {
          "model_module": "@jupyter-widgets/base",
          "model_module_version": "1.2.0",
          "model_name": "LayoutModel",
          "state": {
            "_model_module": "@jupyter-widgets/base",
            "_model_module_version": "1.2.0",
            "_model_name": "LayoutModel",
            "_view_count": null,
            "_view_module": "@jupyter-widgets/base",
            "_view_module_version": "1.2.0",
            "_view_name": "LayoutView",
            "align_content": null,
            "align_items": null,
            "align_self": null,
            "border": null,
            "bottom": null,
            "display": null,
            "flex": null,
            "flex_flow": null,
            "grid_area": null,
            "grid_auto_columns": null,
            "grid_auto_flow": null,
            "grid_auto_rows": null,
            "grid_column": null,
            "grid_gap": null,
            "grid_row": null,
            "grid_template_areas": null,
            "grid_template_columns": null,
            "grid_template_rows": null,
            "height": null,
            "justify_content": null,
            "justify_items": null,
            "left": null,
            "margin": null,
            "max_height": null,
            "max_width": null,
            "min_height": null,
            "min_width": null,
            "object_fit": null,
            "object_position": null,
            "order": null,
            "overflow": null,
            "overflow_x": null,
            "overflow_y": null,
            "padding": null,
            "right": null,
            "top": null,
            "visibility": null,
            "width": null
          }
        },
        "f061c776e693483383f08d7e04bf392f": {
          "model_module": "@jupyter-widgets/controls",
          "model_module_version": "1.5.0",
          "model_name": "FloatProgressModel",
          "state": {
            "_dom_classes": [],
            "_model_module": "@jupyter-widgets/controls",
            "_model_module_version": "1.5.0",
            "_model_name": "FloatProgressModel",
            "_view_count": null,
            "_view_module": "@jupyter-widgets/controls",
            "_view_module_version": "1.5.0",
            "_view_name": "ProgressView",
            "bar_style": "success",
            "description": "",
            "description_tooltip": null,
            "layout": "IPY_MODEL_02ba1dc60d9a47f6be59404d12f2b12e",
            "max": 147,
            "min": 0,
            "orientation": "horizontal",
            "style": "IPY_MODEL_a0f5fdca2c334b09b143c836ef9a5851",
            "value": 147
          }
        },
        "ff58b160251e47169a5724c485761cac": {
          "model_module": "@jupyter-widgets/controls",
          "model_module_version": "1.5.0",
          "model_name": "HBoxModel",
          "state": {
            "_dom_classes": [],
            "_model_module": "@jupyter-widgets/controls",
            "_model_module_version": "1.5.0",
            "_model_name": "HBoxModel",
            "_view_count": null,
            "_view_module": "@jupyter-widgets/controls",
            "_view_module_version": "1.5.0",
            "_view_name": "HBoxView",
            "box_style": "",
            "children": [
              "IPY_MODEL_5690cbda66454c2eb191e5a9151b0bf9",
              "IPY_MODEL_4892589e2a8349729babbaf4a5478a9b",
              "IPY_MODEL_6211ac1ebebd4bfe803403f7e8f72b1c"
            ],
            "layout": "IPY_MODEL_d784ceff69df4798b26606ff21f89732"
          }
        }
      }
    }
  },
  "nbformat": 4,
  "nbformat_minor": 0
}
